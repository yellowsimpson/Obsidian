{
  "nbformat": 4,
  "nbformat_minor": 0,
  "metadata": {
    "accelerator": "GPU",
    "colab": {
      "provenance": [],
      "gpuType": "T4"
    },
    "kernelspec": {
      "display_name": "Python 3",
      "name": "python3"
    },
    "widgets": {
      "application/vnd.jupyter.widget-state+json": {
        "0e4f0cd35ea84e5aaaccee5ce3ba2e62": {
          "model_module": "@jupyter-widgets/controls",
          "model_name": "HBoxModel",
          "model_module_version": "1.5.0",
          "state": {
            "_dom_classes": [],
            "_model_module": "@jupyter-widgets/controls",
            "_model_module_version": "1.5.0",
            "_model_name": "HBoxModel",
            "_view_count": null,
            "_view_module": "@jupyter-widgets/controls",
            "_view_module_version": "1.5.0",
            "_view_name": "HBoxView",
            "box_style": "",
            "children": [
              "IPY_MODEL_68d99ecc11574134bbc186fd00bdccb5",
              "IPY_MODEL_b8f9196824be480f970e4ee2947fa3c4",
              "IPY_MODEL_901647fcca674df1ad665da63d78ff3e"
            ],
            "layout": "IPY_MODEL_1da4e575f6944cd799854376cf15f856"
          }
        },
        "68d99ecc11574134bbc186fd00bdccb5": {
          "model_module": "@jupyter-widgets/controls",
          "model_name": "HTMLModel",
          "model_module_version": "1.5.0",
          "state": {
            "_dom_classes": [],
            "_model_module": "@jupyter-widgets/controls",
            "_model_module_version": "1.5.0",
            "_model_name": "HTMLModel",
            "_view_count": null,
            "_view_module": "@jupyter-widgets/controls",
            "_view_module_version": "1.5.0",
            "_view_name": "HTMLView",
            "description": "",
            "description_tooltip": null,
            "layout": "IPY_MODEL_48719f5155fc4d7cba3bc991935448bd",
            "placeholder": "​",
            "style": "IPY_MODEL_bf32d775d26a4c33bb3dd8271399c1eb",
            "value": "Map: 100%"
          }
        },
        "b8f9196824be480f970e4ee2947fa3c4": {
          "model_module": "@jupyter-widgets/controls",
          "model_name": "FloatProgressModel",
          "model_module_version": "1.5.0",
          "state": {
            "_dom_classes": [],
            "_model_module": "@jupyter-widgets/controls",
            "_model_module_version": "1.5.0",
            "_model_name": "FloatProgressModel",
            "_view_count": null,
            "_view_module": "@jupyter-widgets/controls",
            "_view_module_version": "1.5.0",
            "_view_name": "ProgressView",
            "bar_style": "",
            "description": "",
            "description_tooltip": null,
            "layout": "IPY_MODEL_f10a9592d41f4a5498a3229e0ad1501a",
            "max": 398,
            "min": 0,
            "orientation": "horizontal",
            "style": "IPY_MODEL_b7f93d4c20764c7482a0d12b72706a3d",
            "value": 398
          }
        },
        "901647fcca674df1ad665da63d78ff3e": {
          "model_module": "@jupyter-widgets/controls",
          "model_name": "HTMLModel",
          "model_module_version": "1.5.0",
          "state": {
            "_dom_classes": [],
            "_model_module": "@jupyter-widgets/controls",
            "_model_module_version": "1.5.0",
            "_model_name": "HTMLModel",
            "_view_count": null,
            "_view_module": "@jupyter-widgets/controls",
            "_view_module_version": "1.5.0",
            "_view_name": "HTMLView",
            "description": "",
            "description_tooltip": null,
            "layout": "IPY_MODEL_815b6ca6c4ac404d9188cc67dc7eba38",
            "placeholder": "​",
            "style": "IPY_MODEL_84d3f06e282947c0afd1060232776024",
            "value": " 398/398 [00:01&lt;00:00, 348.20 examples/s]"
          }
        },
        "1da4e575f6944cd799854376cf15f856": {
          "model_module": "@jupyter-widgets/base",
          "model_name": "LayoutModel",
          "model_module_version": "1.2.0",
          "state": {
            "_model_module": "@jupyter-widgets/base",
            "_model_module_version": "1.2.0",
            "_model_name": "LayoutModel",
            "_view_count": null,
            "_view_module": "@jupyter-widgets/base",
            "_view_module_version": "1.2.0",
            "_view_name": "LayoutView",
            "align_content": null,
            "align_items": null,
            "align_self": null,
            "border": null,
            "bottom": null,
            "display": null,
            "flex": null,
            "flex_flow": null,
            "grid_area": null,
            "grid_auto_columns": null,
            "grid_auto_flow": null,
            "grid_auto_rows": null,
            "grid_column": null,
            "grid_gap": null,
            "grid_row": null,
            "grid_template_areas": null,
            "grid_template_columns": null,
            "grid_template_rows": null,
            "height": null,
            "justify_content": null,
            "justify_items": null,
            "left": null,
            "margin": null,
            "max_height": null,
            "max_width": null,
            "min_height": null,
            "min_width": null,
            "object_fit": null,
            "object_position": null,
            "order": null,
            "overflow": null,
            "overflow_x": null,
            "overflow_y": null,
            "padding": null,
            "right": null,
            "top": null,
            "visibility": "hidden",
            "width": null
          }
        },
        "48719f5155fc4d7cba3bc991935448bd": {
          "model_module": "@jupyter-widgets/base",
          "model_name": "LayoutModel",
          "model_module_version": "1.2.0",
          "state": {
            "_model_module": "@jupyter-widgets/base",
            "_model_module_version": "1.2.0",
            "_model_name": "LayoutModel",
            "_view_count": null,
            "_view_module": "@jupyter-widgets/base",
            "_view_module_version": "1.2.0",
            "_view_name": "LayoutView",
            "align_content": null,
            "align_items": null,
            "align_self": null,
            "border": null,
            "bottom": null,
            "display": null,
            "flex": null,
            "flex_flow": null,
            "grid_area": null,
            "grid_auto_columns": null,
            "grid_auto_flow": null,
            "grid_auto_rows": null,
            "grid_column": null,
            "grid_gap": null,
            "grid_row": null,
            "grid_template_areas": null,
            "grid_template_columns": null,
            "grid_template_rows": null,
            "height": null,
            "justify_content": null,
            "justify_items": null,
            "left": null,
            "margin": null,
            "max_height": null,
            "max_width": null,
            "min_height": null,
            "min_width": null,
            "object_fit": null,
            "object_position": null,
            "order": null,
            "overflow": null,
            "overflow_x": null,
            "overflow_y": null,
            "padding": null,
            "right": null,
            "top": null,
            "visibility": null,
            "width": null
          }
        },
        "bf32d775d26a4c33bb3dd8271399c1eb": {
          "model_module": "@jupyter-widgets/controls",
          "model_name": "DescriptionStyleModel",
          "model_module_version": "1.5.0",
          "state": {
            "_model_module": "@jupyter-widgets/controls",
            "_model_module_version": "1.5.0",
            "_model_name": "DescriptionStyleModel",
            "_view_count": null,
            "_view_module": "@jupyter-widgets/base",
            "_view_module_version": "1.2.0",
            "_view_name": "StyleView",
            "description_width": ""
          }
        },
        "f10a9592d41f4a5498a3229e0ad1501a": {
          "model_module": "@jupyter-widgets/base",
          "model_name": "LayoutModel",
          "model_module_version": "1.2.0",
          "state": {
            "_model_module": "@jupyter-widgets/base",
            "_model_module_version": "1.2.0",
            "_model_name": "LayoutModel",
            "_view_count": null,
            "_view_module": "@jupyter-widgets/base",
            "_view_module_version": "1.2.0",
            "_view_name": "LayoutView",
            "align_content": null,
            "align_items": null,
            "align_self": null,
            "border": null,
            "bottom": null,
            "display": null,
            "flex": null,
            "flex_flow": null,
            "grid_area": null,
            "grid_auto_columns": null,
            "grid_auto_flow": null,
            "grid_auto_rows": null,
            "grid_column": null,
            "grid_gap": null,
            "grid_row": null,
            "grid_template_areas": null,
            "grid_template_columns": null,
            "grid_template_rows": null,
            "height": null,
            "justify_content": null,
            "justify_items": null,
            "left": null,
            "margin": null,
            "max_height": null,
            "max_width": null,
            "min_height": null,
            "min_width": null,
            "object_fit": null,
            "object_position": null,
            "order": null,
            "overflow": null,
            "overflow_x": null,
            "overflow_y": null,
            "padding": null,
            "right": null,
            "top": null,
            "visibility": null,
            "width": null
          }
        },
        "b7f93d4c20764c7482a0d12b72706a3d": {
          "model_module": "@jupyter-widgets/controls",
          "model_name": "ProgressStyleModel",
          "model_module_version": "1.5.0",
          "state": {
            "_model_module": "@jupyter-widgets/controls",
            "_model_module_version": "1.5.0",
            "_model_name": "ProgressStyleModel",
            "_view_count": null,
            "_view_module": "@jupyter-widgets/base",
            "_view_module_version": "1.2.0",
            "_view_name": "StyleView",
            "bar_color": null,
            "description_width": ""
          }
        },
        "815b6ca6c4ac404d9188cc67dc7eba38": {
          "model_module": "@jupyter-widgets/base",
          "model_name": "LayoutModel",
          "model_module_version": "1.2.0",
          "state": {
            "_model_module": "@jupyter-widgets/base",
            "_model_module_version": "1.2.0",
            "_model_name": "LayoutModel",
            "_view_count": null,
            "_view_module": "@jupyter-widgets/base",
            "_view_module_version": "1.2.0",
            "_view_name": "LayoutView",
            "align_content": null,
            "align_items": null,
            "align_self": null,
            "border": null,
            "bottom": null,
            "display": null,
            "flex": null,
            "flex_flow": null,
            "grid_area": null,
            "grid_auto_columns": null,
            "grid_auto_flow": null,
            "grid_auto_rows": null,
            "grid_column": null,
            "grid_gap": null,
            "grid_row": null,
            "grid_template_areas": null,
            "grid_template_columns": null,
            "grid_template_rows": null,
            "height": null,
            "justify_content": null,
            "justify_items": null,
            "left": null,
            "margin": null,
            "max_height": null,
            "max_width": null,
            "min_height": null,
            "min_width": null,
            "object_fit": null,
            "object_position": null,
            "order": null,
            "overflow": null,
            "overflow_x": null,
            "overflow_y": null,
            "padding": null,
            "right": null,
            "top": null,
            "visibility": null,
            "width": null
          }
        },
        "84d3f06e282947c0afd1060232776024": {
          "model_module": "@jupyter-widgets/controls",
          "model_name": "DescriptionStyleModel",
          "model_module_version": "1.5.0",
          "state": {
            "_model_module": "@jupyter-widgets/controls",
            "_model_module_version": "1.5.0",
            "_model_name": "DescriptionStyleModel",
            "_view_count": null,
            "_view_module": "@jupyter-widgets/base",
            "_view_module_version": "1.2.0",
            "_view_name": "StyleView",
            "description_width": ""
          }
        },
        "5ab62bec7c19454ead1befa676f8a074": {
          "model_module": "@jupyter-widgets/controls",
          "model_name": "HBoxModel",
          "model_module_version": "1.5.0",
          "state": {
            "_dom_classes": [],
            "_model_module": "@jupyter-widgets/controls",
            "_model_module_version": "1.5.0",
            "_model_name": "HBoxModel",
            "_view_count": null,
            "_view_module": "@jupyter-widgets/controls",
            "_view_module_version": "1.5.0",
            "_view_name": "HBoxView",
            "box_style": "",
            "children": [
              "IPY_MODEL_3e0d1e9ede7744fd825fdbfca790b7ed",
              "IPY_MODEL_9d957cb250974df5a46e5ab5abd0daf8",
              "IPY_MODEL_4a57583806fa48c885571fb0d1cd67cd"
            ],
            "layout": "IPY_MODEL_a9b4302a25bd493db44514878c371c38"
          }
        },
        "3e0d1e9ede7744fd825fdbfca790b7ed": {
          "model_module": "@jupyter-widgets/controls",
          "model_name": "HTMLModel",
          "model_module_version": "1.5.0",
          "state": {
            "_dom_classes": [],
            "_model_module": "@jupyter-widgets/controls",
            "_model_module_version": "1.5.0",
            "_model_name": "HTMLModel",
            "_view_count": null,
            "_view_module": "@jupyter-widgets/controls",
            "_view_module_version": "1.5.0",
            "_view_name": "HTMLView",
            "description": "",
            "description_tooltip": null,
            "layout": "IPY_MODEL_19e4198b3823492fbd42e502f1811687",
            "placeholder": "​",
            "style": "IPY_MODEL_7dfa198cc4654369bba3a8a3672e0cfa",
            "value": "Map: 100%"
          }
        },
        "9d957cb250974df5a46e5ab5abd0daf8": {
          "model_module": "@jupyter-widgets/controls",
          "model_name": "FloatProgressModel",
          "model_module_version": "1.5.0",
          "state": {
            "_dom_classes": [],
            "_model_module": "@jupyter-widgets/controls",
            "_model_module_version": "1.5.0",
            "_model_name": "FloatProgressModel",
            "_view_count": null,
            "_view_module": "@jupyter-widgets/controls",
            "_view_module_version": "1.5.0",
            "_view_name": "ProgressView",
            "bar_style": "",
            "description": "",
            "description_tooltip": null,
            "layout": "IPY_MODEL_f203cfab241b469ca45fa2d8ae9644d2",
            "max": 100,
            "min": 0,
            "orientation": "horizontal",
            "style": "IPY_MODEL_7feab5fb734c47acb174d2b888914c60",
            "value": 100
          }
        },
        "4a57583806fa48c885571fb0d1cd67cd": {
          "model_module": "@jupyter-widgets/controls",
          "model_name": "HTMLModel",
          "model_module_version": "1.5.0",
          "state": {
            "_dom_classes": [],
            "_model_module": "@jupyter-widgets/controls",
            "_model_module_version": "1.5.0",
            "_model_name": "HTMLModel",
            "_view_count": null,
            "_view_module": "@jupyter-widgets/controls",
            "_view_module_version": "1.5.0",
            "_view_name": "HTMLView",
            "description": "",
            "description_tooltip": null,
            "layout": "IPY_MODEL_3ca878796ce645c2aa568636e4fce9b9",
            "placeholder": "​",
            "style": "IPY_MODEL_5f4cc482e76441c4879f16b6ad3b60d2",
            "value": " 100/100 [00:00&lt;00:00, 359.18 examples/s]"
          }
        },
        "a9b4302a25bd493db44514878c371c38": {
          "model_module": "@jupyter-widgets/base",
          "model_name": "LayoutModel",
          "model_module_version": "1.2.0",
          "state": {
            "_model_module": "@jupyter-widgets/base",
            "_model_module_version": "1.2.0",
            "_model_name": "LayoutModel",
            "_view_count": null,
            "_view_module": "@jupyter-widgets/base",
            "_view_module_version": "1.2.0",
            "_view_name": "LayoutView",
            "align_content": null,
            "align_items": null,
            "align_self": null,
            "border": null,
            "bottom": null,
            "display": null,
            "flex": null,
            "flex_flow": null,
            "grid_area": null,
            "grid_auto_columns": null,
            "grid_auto_flow": null,
            "grid_auto_rows": null,
            "grid_column": null,
            "grid_gap": null,
            "grid_row": null,
            "grid_template_areas": null,
            "grid_template_columns": null,
            "grid_template_rows": null,
            "height": null,
            "justify_content": null,
            "justify_items": null,
            "left": null,
            "margin": null,
            "max_height": null,
            "max_width": null,
            "min_height": null,
            "min_width": null,
            "object_fit": null,
            "object_position": null,
            "order": null,
            "overflow": null,
            "overflow_x": null,
            "overflow_y": null,
            "padding": null,
            "right": null,
            "top": null,
            "visibility": "hidden",
            "width": null
          }
        },
        "19e4198b3823492fbd42e502f1811687": {
          "model_module": "@jupyter-widgets/base",
          "model_name": "LayoutModel",
          "model_module_version": "1.2.0",
          "state": {
            "_model_module": "@jupyter-widgets/base",
            "_model_module_version": "1.2.0",
            "_model_name": "LayoutModel",
            "_view_count": null,
            "_view_module": "@jupyter-widgets/base",
            "_view_module_version": "1.2.0",
            "_view_name": "LayoutView",
            "align_content": null,
            "align_items": null,
            "align_self": null,
            "border": null,
            "bottom": null,
            "display": null,
            "flex": null,
            "flex_flow": null,
            "grid_area": null,
            "grid_auto_columns": null,
            "grid_auto_flow": null,
            "grid_auto_rows": null,
            "grid_column": null,
            "grid_gap": null,
            "grid_row": null,
            "grid_template_areas": null,
            "grid_template_columns": null,
            "grid_template_rows": null,
            "height": null,
            "justify_content": null,
            "justify_items": null,
            "left": null,
            "margin": null,
            "max_height": null,
            "max_width": null,
            "min_height": null,
            "min_width": null,
            "object_fit": null,
            "object_position": null,
            "order": null,
            "overflow": null,
            "overflow_x": null,
            "overflow_y": null,
            "padding": null,
            "right": null,
            "top": null,
            "visibility": null,
            "width": null
          }
        },
        "7dfa198cc4654369bba3a8a3672e0cfa": {
          "model_module": "@jupyter-widgets/controls",
          "model_name": "DescriptionStyleModel",
          "model_module_version": "1.5.0",
          "state": {
            "_model_module": "@jupyter-widgets/controls",
            "_model_module_version": "1.5.0",
            "_model_name": "DescriptionStyleModel",
            "_view_count": null,
            "_view_module": "@jupyter-widgets/base",
            "_view_module_version": "1.2.0",
            "_view_name": "StyleView",
            "description_width": ""
          }
        },
        "f203cfab241b469ca45fa2d8ae9644d2": {
          "model_module": "@jupyter-widgets/base",
          "model_name": "LayoutModel",
          "model_module_version": "1.2.0",
          "state": {
            "_model_module": "@jupyter-widgets/base",
            "_model_module_version": "1.2.0",
            "_model_name": "LayoutModel",
            "_view_count": null,
            "_view_module": "@jupyter-widgets/base",
            "_view_module_version": "1.2.0",
            "_view_name": "LayoutView",
            "align_content": null,
            "align_items": null,
            "align_self": null,
            "border": null,
            "bottom": null,
            "display": null,
            "flex": null,
            "flex_flow": null,
            "grid_area": null,
            "grid_auto_columns": null,
            "grid_auto_flow": null,
            "grid_auto_rows": null,
            "grid_column": null,
            "grid_gap": null,
            "grid_row": null,
            "grid_template_areas": null,
            "grid_template_columns": null,
            "grid_template_rows": null,
            "height": null,
            "justify_content": null,
            "justify_items": null,
            "left": null,
            "margin": null,
            "max_height": null,
            "max_width": null,
            "min_height": null,
            "min_width": null,
            "object_fit": null,
            "object_position": null,
            "order": null,
            "overflow": null,
            "overflow_x": null,
            "overflow_y": null,
            "padding": null,
            "right": null,
            "top": null,
            "visibility": null,
            "width": null
          }
        },
        "7feab5fb734c47acb174d2b888914c60": {
          "model_module": "@jupyter-widgets/controls",
          "model_name": "ProgressStyleModel",
          "model_module_version": "1.5.0",
          "state": {
            "_model_module": "@jupyter-widgets/controls",
            "_model_module_version": "1.5.0",
            "_model_name": "ProgressStyleModel",
            "_view_count": null,
            "_view_module": "@jupyter-widgets/base",
            "_view_module_version": "1.2.0",
            "_view_name": "StyleView",
            "bar_color": null,
            "description_width": ""
          }
        },
        "3ca878796ce645c2aa568636e4fce9b9": {
          "model_module": "@jupyter-widgets/base",
          "model_name": "LayoutModel",
          "model_module_version": "1.2.0",
          "state": {
            "_model_module": "@jupyter-widgets/base",
            "_model_module_version": "1.2.0",
            "_model_name": "LayoutModel",
            "_view_count": null,
            "_view_module": "@jupyter-widgets/base",
            "_view_module_version": "1.2.0",
            "_view_name": "LayoutView",
            "align_content": null,
            "align_items": null,
            "align_self": null,
            "border": null,
            "bottom": null,
            "display": null,
            "flex": null,
            "flex_flow": null,
            "grid_area": null,
            "grid_auto_columns": null,
            "grid_auto_flow": null,
            "grid_auto_rows": null,
            "grid_column": null,
            "grid_gap": null,
            "grid_row": null,
            "grid_template_areas": null,
            "grid_template_columns": null,
            "grid_template_rows": null,
            "height": null,
            "justify_content": null,
            "justify_items": null,
            "left": null,
            "margin": null,
            "max_height": null,
            "max_width": null,
            "min_height": null,
            "min_width": null,
            "object_fit": null,
            "object_position": null,
            "order": null,
            "overflow": null,
            "overflow_x": null,
            "overflow_y": null,
            "padding": null,
            "right": null,
            "top": null,
            "visibility": null,
            "width": null
          }
        },
        "5f4cc482e76441c4879f16b6ad3b60d2": {
          "model_module": "@jupyter-widgets/controls",
          "model_name": "DescriptionStyleModel",
          "model_module_version": "1.5.0",
          "state": {
            "_model_module": "@jupyter-widgets/controls",
            "_model_module_version": "1.5.0",
            "_model_name": "DescriptionStyleModel",
            "_view_count": null,
            "_view_module": "@jupyter-widgets/base",
            "_view_module_version": "1.2.0",
            "_view_name": "StyleView",
            "description_width": ""
          }
        }
      }
    }
  },
  "cells": [
    {
      "cell_type": "code",
      "metadata": {
        "id": "_gaaojSBoQ5f",
        "colab": {
          "base_uri": "https://localhost:8080/"
        },
        "outputId": "7cd95985-7c4a-4110-8996-cf25f09679d4"
      },
      "source": [
        "! pip install transformers\n",
        "! pip install datasets\n",
        "! pip install sentencepiece\n",
        "! pip install rouge_score"
      ],
      "execution_count": 1,
      "outputs": [
        {
          "output_type": "stream",
          "name": "stdout",
          "text": [
            "Looking in indexes: https://pypi.org/simple, https://us-python.pkg.dev/colab-wheels/public/simple/\n",
            "Collecting transformers\n",
            "  Downloading transformers-4.30.1-py3-none-any.whl (7.2 MB)\n",
            "\u001b[2K     \u001b[90m━━━━━━━━━━━━━━━━━━━━━━━━━━━━━━━━━━━━━━━━\u001b[0m \u001b[32m7.2/7.2 MB\u001b[0m \u001b[31m101.0 MB/s\u001b[0m eta \u001b[36m0:00:00\u001b[0m\n",
            "\u001b[?25hRequirement already satisfied: filelock in /usr/local/lib/python3.10/dist-packages (from transformers) (3.12.0)\n",
            "Collecting huggingface-hub<1.0,>=0.14.1 (from transformers)\n",
            "  Downloading huggingface_hub-0.15.1-py3-none-any.whl (236 kB)\n",
            "\u001b[2K     \u001b[90m━━━━━━━━━━━━━━━━━━━━━━━━━━━━━━━━━━━━━━\u001b[0m \u001b[32m236.8/236.8 kB\u001b[0m \u001b[31m29.5 MB/s\u001b[0m eta \u001b[36m0:00:00\u001b[0m\n",
            "\u001b[?25hRequirement already satisfied: numpy>=1.17 in /usr/local/lib/python3.10/dist-packages (from transformers) (1.22.4)\n",
            "Requirement already satisfied: packaging>=20.0 in /usr/local/lib/python3.10/dist-packages (from transformers) (23.1)\n",
            "Requirement already satisfied: pyyaml>=5.1 in /usr/local/lib/python3.10/dist-packages (from transformers) (6.0)\n",
            "Requirement already satisfied: regex!=2019.12.17 in /usr/local/lib/python3.10/dist-packages (from transformers) (2022.10.31)\n",
            "Requirement already satisfied: requests in /usr/local/lib/python3.10/dist-packages (from transformers) (2.27.1)\n",
            "Collecting tokenizers!=0.11.3,<0.14,>=0.11.1 (from transformers)\n",
            "  Downloading tokenizers-0.13.3-cp310-cp310-manylinux_2_17_x86_64.manylinux2014_x86_64.whl (7.8 MB)\n",
            "\u001b[2K     \u001b[90m━━━━━━━━━━━━━━━━━━━━━━━━━━━━━━━━━━━━━━━━\u001b[0m \u001b[32m7.8/7.8 MB\u001b[0m \u001b[31m118.5 MB/s\u001b[0m eta \u001b[36m0:00:00\u001b[0m\n",
            "\u001b[?25hCollecting safetensors>=0.3.1 (from transformers)\n",
            "  Downloading safetensors-0.3.1-cp310-cp310-manylinux_2_17_x86_64.manylinux2014_x86_64.whl (1.3 MB)\n",
            "\u001b[2K     \u001b[90m━━━━━━━━━━━━━━━━━━━━━━━━━━━━━━━━━━━━━━━━\u001b[0m \u001b[32m1.3/1.3 MB\u001b[0m \u001b[31m87.2 MB/s\u001b[0m eta \u001b[36m0:00:00\u001b[0m\n",
            "\u001b[?25hRequirement already satisfied: tqdm>=4.27 in /usr/local/lib/python3.10/dist-packages (from transformers) (4.65.0)\n",
            "Requirement already satisfied: fsspec in /usr/local/lib/python3.10/dist-packages (from huggingface-hub<1.0,>=0.14.1->transformers) (2023.4.0)\n",
            "Requirement already satisfied: typing-extensions>=3.7.4.3 in /usr/local/lib/python3.10/dist-packages (from huggingface-hub<1.0,>=0.14.1->transformers) (4.5.0)\n",
            "Requirement already satisfied: urllib3<1.27,>=1.21.1 in /usr/local/lib/python3.10/dist-packages (from requests->transformers) (1.26.15)\n",
            "Requirement already satisfied: certifi>=2017.4.17 in /usr/local/lib/python3.10/dist-packages (from requests->transformers) (2022.12.7)\n",
            "Requirement already satisfied: charset-normalizer~=2.0.0 in /usr/local/lib/python3.10/dist-packages (from requests->transformers) (2.0.12)\n",
            "Requirement already satisfied: idna<4,>=2.5 in /usr/local/lib/python3.10/dist-packages (from requests->transformers) (3.4)\n",
            "Installing collected packages: tokenizers, safetensors, huggingface-hub, transformers\n",
            "Successfully installed huggingface-hub-0.15.1 safetensors-0.3.1 tokenizers-0.13.3 transformers-4.30.1\n",
            "Looking in indexes: https://pypi.org/simple, https://us-python.pkg.dev/colab-wheels/public/simple/\n",
            "Collecting datasets\n",
            "  Downloading datasets-2.12.0-py3-none-any.whl (474 kB)\n",
            "\u001b[2K     \u001b[90m━━━━━━━━━━━━━━━━━━━━━━━━━━━━━━━━━━━━━━\u001b[0m \u001b[32m474.6/474.6 kB\u001b[0m \u001b[31m33.3 MB/s\u001b[0m eta \u001b[36m0:00:00\u001b[0m\n",
            "\u001b[?25hRequirement already satisfied: numpy>=1.17 in /usr/local/lib/python3.10/dist-packages (from datasets) (1.22.4)\n",
            "Requirement already satisfied: pyarrow>=8.0.0 in /usr/local/lib/python3.10/dist-packages (from datasets) (9.0.0)\n",
            "Collecting dill<0.3.7,>=0.3.0 (from datasets)\n",
            "  Downloading dill-0.3.6-py3-none-any.whl (110 kB)\n",
            "\u001b[2K     \u001b[90m━━━━━━━━━━━━━━━━━━━━━━━━━━━━━━━━━━━━━━\u001b[0m \u001b[32m110.5/110.5 kB\u001b[0m \u001b[31m14.8 MB/s\u001b[0m eta \u001b[36m0:00:00\u001b[0m\n",
            "\u001b[?25hRequirement already satisfied: pandas in /usr/local/lib/python3.10/dist-packages (from datasets) (1.5.3)\n",
            "Requirement already satisfied: requests>=2.19.0 in /usr/local/lib/python3.10/dist-packages (from datasets) (2.27.1)\n",
            "Requirement already satisfied: tqdm>=4.62.1 in /usr/local/lib/python3.10/dist-packages (from datasets) (4.65.0)\n",
            "Collecting xxhash (from datasets)\n",
            "  Downloading xxhash-3.2.0-cp310-cp310-manylinux_2_17_x86_64.manylinux2014_x86_64.whl (212 kB)\n",
            "\u001b[2K     \u001b[90m━━━━━━━━━━━━━━━━━━━━━━━━━━━━━━━━━━━━━━\u001b[0m \u001b[32m212.5/212.5 kB\u001b[0m \u001b[31m26.6 MB/s\u001b[0m eta \u001b[36m0:00:00\u001b[0m\n",
            "\u001b[?25hCollecting multiprocess (from datasets)\n",
            "  Downloading multiprocess-0.70.14-py310-none-any.whl (134 kB)\n",
            "\u001b[2K     \u001b[90m━━━━━━━━━━━━━━━━━━━━━━━━━━━━━━━━━━━━━━\u001b[0m \u001b[32m134.3/134.3 kB\u001b[0m \u001b[31m16.9 MB/s\u001b[0m eta \u001b[36m0:00:00\u001b[0m\n",
            "\u001b[?25hRequirement already satisfied: fsspec[http]>=2021.11.1 in /usr/local/lib/python3.10/dist-packages (from datasets) (2023.4.0)\n",
            "Collecting aiohttp (from datasets)\n",
            "  Downloading aiohttp-3.8.4-cp310-cp310-manylinux_2_17_x86_64.manylinux2014_x86_64.whl (1.0 MB)\n",
            "\u001b[2K     \u001b[90m━━━━━━━━━━━━━━━━━━━━━━━━━━━━━━━━━━━━━━━━\u001b[0m \u001b[32m1.0/1.0 MB\u001b[0m \u001b[31m60.7 MB/s\u001b[0m eta \u001b[36m0:00:00\u001b[0m\n",
            "\u001b[?25hRequirement already satisfied: huggingface-hub<1.0.0,>=0.11.0 in /usr/local/lib/python3.10/dist-packages (from datasets) (0.15.1)\n",
            "Requirement already satisfied: packaging in /usr/local/lib/python3.10/dist-packages (from datasets) (23.1)\n",
            "Collecting responses<0.19 (from datasets)\n",
            "  Downloading responses-0.18.0-py3-none-any.whl (38 kB)\n",
            "Requirement already satisfied: pyyaml>=5.1 in /usr/local/lib/python3.10/dist-packages (from datasets) (6.0)\n",
            "Requirement already satisfied: attrs>=17.3.0 in /usr/local/lib/python3.10/dist-packages (from aiohttp->datasets) (23.1.0)\n",
            "Requirement already satisfied: charset-normalizer<4.0,>=2.0 in /usr/local/lib/python3.10/dist-packages (from aiohttp->datasets) (2.0.12)\n",
            "Collecting multidict<7.0,>=4.5 (from aiohttp->datasets)\n",
            "  Downloading multidict-6.0.4-cp310-cp310-manylinux_2_17_x86_64.manylinux2014_x86_64.whl (114 kB)\n",
            "\u001b[2K     \u001b[90m━━━━━━━━━━━━━━━━━━━━━━━━━━━━━━━━━━━━━━━\u001b[0m \u001b[32m114.5/114.5 kB\u001b[0m \u001b[31m6.0 MB/s\u001b[0m eta \u001b[36m0:00:00\u001b[0m\n",
            "\u001b[?25hCollecting async-timeout<5.0,>=4.0.0a3 (from aiohttp->datasets)\n",
            "  Downloading async_timeout-4.0.2-py3-none-any.whl (5.8 kB)\n",
            "Collecting yarl<2.0,>=1.0 (from aiohttp->datasets)\n",
            "  Downloading yarl-1.9.2-cp310-cp310-manylinux_2_17_x86_64.manylinux2014_x86_64.whl (268 kB)\n",
            "\u001b[2K     \u001b[90m━━━━━━━━━━━━━━━━━━━━━━━━━━━━━━━━━━━━━━\u001b[0m \u001b[32m268.8/268.8 kB\u001b[0m \u001b[31m36.1 MB/s\u001b[0m eta \u001b[36m0:00:00\u001b[0m\n",
            "\u001b[?25hCollecting frozenlist>=1.1.1 (from aiohttp->datasets)\n",
            "  Downloading frozenlist-1.3.3-cp310-cp310-manylinux_2_5_x86_64.manylinux1_x86_64.manylinux_2_17_x86_64.manylinux2014_x86_64.whl (149 kB)\n",
            "\u001b[2K     \u001b[90m━━━━━━━━━━━━━━━━━━━━━━━━━━━━━━━━━━━━━━\u001b[0m \u001b[32m149.6/149.6 kB\u001b[0m \u001b[31m21.8 MB/s\u001b[0m eta \u001b[36m0:00:00\u001b[0m\n",
            "\u001b[?25hCollecting aiosignal>=1.1.2 (from aiohttp->datasets)\n",
            "  Downloading aiosignal-1.3.1-py3-none-any.whl (7.6 kB)\n",
            "Requirement already satisfied: filelock in /usr/local/lib/python3.10/dist-packages (from huggingface-hub<1.0.0,>=0.11.0->datasets) (3.12.0)\n",
            "Requirement already satisfied: typing-extensions>=3.7.4.3 in /usr/local/lib/python3.10/dist-packages (from huggingface-hub<1.0.0,>=0.11.0->datasets) (4.5.0)\n",
            "Requirement already satisfied: urllib3<1.27,>=1.21.1 in /usr/local/lib/python3.10/dist-packages (from requests>=2.19.0->datasets) (1.26.15)\n",
            "Requirement already satisfied: certifi>=2017.4.17 in /usr/local/lib/python3.10/dist-packages (from requests>=2.19.0->datasets) (2022.12.7)\n",
            "Requirement already satisfied: idna<4,>=2.5 in /usr/local/lib/python3.10/dist-packages (from requests>=2.19.0->datasets) (3.4)\n",
            "Requirement already satisfied: python-dateutil>=2.8.1 in /usr/local/lib/python3.10/dist-packages (from pandas->datasets) (2.8.2)\n",
            "Requirement already satisfied: pytz>=2020.1 in /usr/local/lib/python3.10/dist-packages (from pandas->datasets) (2022.7.1)\n",
            "Requirement already satisfied: six>=1.5 in /usr/local/lib/python3.10/dist-packages (from python-dateutil>=2.8.1->pandas->datasets) (1.16.0)\n",
            "Installing collected packages: xxhash, multidict, frozenlist, dill, async-timeout, yarl, responses, multiprocess, aiosignal, aiohttp, datasets\n",
            "Successfully installed aiohttp-3.8.4 aiosignal-1.3.1 async-timeout-4.0.2 datasets-2.12.0 dill-0.3.6 frozenlist-1.3.3 multidict-6.0.4 multiprocess-0.70.14 responses-0.18.0 xxhash-3.2.0 yarl-1.9.2\n",
            "Looking in indexes: https://pypi.org/simple, https://us-python.pkg.dev/colab-wheels/public/simple/\n",
            "Collecting sentencepiece\n",
            "  Downloading sentencepiece-0.1.99-cp310-cp310-manylinux_2_17_x86_64.manylinux2014_x86_64.whl (1.3 MB)\n",
            "\u001b[2K     \u001b[90m━━━━━━━━━━━━━━━━━━━━━━━━━━━━━━━━━━━━━━━━\u001b[0m \u001b[32m1.3/1.3 MB\u001b[0m \u001b[31m49.9 MB/s\u001b[0m eta \u001b[36m0:00:00\u001b[0m\n",
            "\u001b[?25hInstalling collected packages: sentencepiece\n",
            "Successfully installed sentencepiece-0.1.99\n",
            "Looking in indexes: https://pypi.org/simple, https://us-python.pkg.dev/colab-wheels/public/simple/\n",
            "Collecting rouge_score\n",
            "  Downloading rouge_score-0.1.2.tar.gz (17 kB)\n",
            "  Preparing metadata (setup.py) ... \u001b[?25l\u001b[?25hdone\n",
            "Requirement already satisfied: absl-py in /usr/local/lib/python3.10/dist-packages (from rouge_score) (1.4.0)\n",
            "Requirement already satisfied: nltk in /usr/local/lib/python3.10/dist-packages (from rouge_score) (3.8.1)\n",
            "Requirement already satisfied: numpy in /usr/local/lib/python3.10/dist-packages (from rouge_score) (1.22.4)\n",
            "Requirement already satisfied: six>=1.14.0 in /usr/local/lib/python3.10/dist-packages (from rouge_score) (1.16.0)\n",
            "Requirement already satisfied: click in /usr/local/lib/python3.10/dist-packages (from nltk->rouge_score) (8.1.3)\n",
            "Requirement already satisfied: joblib in /usr/local/lib/python3.10/dist-packages (from nltk->rouge_score) (1.2.0)\n",
            "Requirement already satisfied: regex>=2021.8.3 in /usr/local/lib/python3.10/dist-packages (from nltk->rouge_score) (2022.10.31)\n",
            "Requirement already satisfied: tqdm in /usr/local/lib/python3.10/dist-packages (from nltk->rouge_score) (4.65.0)\n",
            "Building wheels for collected packages: rouge_score\n",
            "  Building wheel for rouge_score (setup.py) ... \u001b[?25l\u001b[?25hdone\n",
            "  Created wheel for rouge_score: filename=rouge_score-0.1.2-py3-none-any.whl size=24934 sha256=bc69c607e93be1efdf079d63a43752a4698f4981ff6ce296193cfff2f16f2dbe\n",
            "  Stored in directory: /root/.cache/pip/wheels/5f/dd/89/461065a73be61a532ff8599a28e9beef17985c9e9c31e541b4\n",
            "Successfully built rouge_score\n",
            "Installing collected packages: rouge_score\n",
            "Successfully installed rouge_score-0.1.2\n"
          ]
        }
      ]
    },
    {
      "cell_type": "code",
      "metadata": {
        "id": "rimUDCQGoTAJ"
      },
      "source": [
        "import torch\n",
        "import numpy as np\n",
        "import datasets\n",
        "\n",
        "from transformers import (\n",
        "    AutoModelForSeq2SeqLM,\n",
        "    AutoTokenizer,\n",
        "    Seq2SeqTrainingArguments,\n",
        "    Seq2SeqTrainer,\n",
        "    DataCollatorForSeq2Seq,\n",
        ")\n",
        "\n",
        "from tabulate import tabulate\n",
        "import nltk\n",
        "from datetime import datetime"
      ],
      "execution_count": 1,
      "outputs": []
    },
    {
      "cell_type": "code",
      "metadata": {
        "id": "Z_QkvK4DSp9a"
      },
      "source": [
        "language = \"english\""
      ],
      "execution_count": 2,
      "outputs": []
    },
    {
      "cell_type": "code",
      "metadata": {
        "id": "7vMhyyIPobyx"
      },
      "source": [
        "model_name = \"sshleifer/distilbart-xsum-12-3\"\n",
        "\n",
        "model = AutoModelForSeq2SeqLM.from_pretrained(model_name)\n",
        "tokenizer = AutoTokenizer.from_pretrained(model_name)\n",
        "\n",
        "# tokenization\n",
        "encoder_max_length = 256 \n",
        "decoder_max_length = 64"
      ],
      "execution_count": 3,
      "outputs": []
    },
    {
      "cell_type": "code",
      "metadata": {
        "id": "zA0gynyNom7B",
        "colab": {
          "base_uri": "https://localhost:8080/"
        },
        "outputId": "86483f65-35b2-46b3-e754-4b83e100e755"
      },
      "source": [
        "data = datasets.load_dataset(\"wiki_lingua\", name=language, split=\"train[:200]\")"
      ],
      "execution_count": 4,
      "outputs": [
        {
          "output_type": "stream",
          "name": "stderr",
          "text": [
            "WARNING:datasets.builder:Found cached dataset wiki_lingua (/root/.cache/huggingface/datasets/wiki_lingua/english/1.1.1/dad5f0710d1bb1a2ed1eb7633802fe147ebd27a3812985f5641bb7aca6ba5c08)\n"
          ]
        }
      ]
    },
    {
      "cell_type": "code",
      "metadata": {
        "id": "M3TeTKzQ49CO",
        "colab": {
          "base_uri": "https://localhost:8080/"
        },
        "outputId": "74f79195-a661-4eea-e1ee-03d12dfe6149"
      },
      "source": [
        "def flatten(example):\n",
        "    return {\n",
        "        \"document\": example[\"article\"][\"document\"],\n",
        "        \"summary\": example[\"article\"][\"summary\"],\n",
        "    }\n",
        "\n",
        "def list2samples(example):\n",
        "    documents = []\n",
        "    summaries = []\n",
        "    for sample in zip(example[\"document\"], example[\"summary\"]):\n",
        "        if len(sample[0]) > 0:\n",
        "            documents += sample[0]\n",
        "            summaries += sample[1]\n",
        "    return {\"document\": documents, \"summary\": summaries}\n",
        "\n",
        "\n",
        "dataset = data.map(flatten, remove_columns=[\"article\", \"url\"])\n",
        "dataset = dataset.map(list2samples, batched=True)\n",
        "\n",
        "train_data_txt, validation_data_txt = dataset.train_test_split(test_size=0.2).values()"
      ],
      "execution_count": 5,
      "outputs": [
        {
          "output_type": "stream",
          "name": "stderr",
          "text": [
            "WARNING:datasets.arrow_dataset:Loading cached processed dataset at /root/.cache/huggingface/datasets/wiki_lingua/english/1.1.1/dad5f0710d1bb1a2ed1eb7633802fe147ebd27a3812985f5641bb7aca6ba5c08/cache-9d42b2b360e938a1.arrow\n",
            "WARNING:datasets.arrow_dataset:Loading cached processed dataset at /root/.cache/huggingface/datasets/wiki_lingua/english/1.1.1/dad5f0710d1bb1a2ed1eb7633802fe147ebd27a3812985f5641bb7aca6ba5c08/cache-6dd86cfd6c999a1d.arrow\n"
          ]
        }
      ]
    },
    {
      "cell_type": "code",
      "source": [
        "train_data_txt"
      ],
      "metadata": {
        "colab": {
          "base_uri": "https://localhost:8080/"
        },
        "id": "NmtIXW2RzmJk",
        "outputId": "9354c01f-edcb-4fa4-9e8c-1b6484e71990"
      },
      "execution_count": 6,
      "outputs": [
        {
          "output_type": "execute_result",
          "data": {
            "text/plain": [
              "Dataset({\n",
              "    features: ['document', 'summary'],\n",
              "    num_rows: 398\n",
              "})"
            ]
          },
          "metadata": {},
          "execution_count": 6
        }
      ]
    },
    {
      "cell_type": "code",
      "source": [
        "validation_data_txt"
      ],
      "metadata": {
        "colab": {
          "base_uri": "https://localhost:8080/"
        },
        "id": "3rLCoGyPzqh6",
        "outputId": "e9a9c475-ed8b-42aa-cf3c-e84a2acf7dc9"
      },
      "execution_count": 7,
      "outputs": [
        {
          "output_type": "execute_result",
          "data": {
            "text/plain": [
              "Dataset({\n",
              "    features: ['document', 'summary'],\n",
              "    num_rows: 100\n",
              "})"
            ]
          },
          "metadata": {},
          "execution_count": 7
        }
      ]
    },
    {
      "cell_type": "code",
      "metadata": {
        "id": "PyksYNwxA4OM",
        "colab": {
          "base_uri": "https://localhost:8080/",
          "height": 17,
          "referenced_widgets": [
            "0e4f0cd35ea84e5aaaccee5ce3ba2e62",
            "68d99ecc11574134bbc186fd00bdccb5",
            "b8f9196824be480f970e4ee2947fa3c4",
            "901647fcca674df1ad665da63d78ff3e",
            "1da4e575f6944cd799854376cf15f856",
            "48719f5155fc4d7cba3bc991935448bd",
            "bf32d775d26a4c33bb3dd8271399c1eb",
            "f10a9592d41f4a5498a3229e0ad1501a",
            "b7f93d4c20764c7482a0d12b72706a3d",
            "815b6ca6c4ac404d9188cc67dc7eba38",
            "84d3f06e282947c0afd1060232776024",
            "5ab62bec7c19454ead1befa676f8a074",
            "3e0d1e9ede7744fd825fdbfca790b7ed",
            "9d957cb250974df5a46e5ab5abd0daf8",
            "4a57583806fa48c885571fb0d1cd67cd",
            "a9b4302a25bd493db44514878c371c38",
            "19e4198b3823492fbd42e502f1811687",
            "7dfa198cc4654369bba3a8a3672e0cfa",
            "f203cfab241b469ca45fa2d8ae9644d2",
            "7feab5fb734c47acb174d2b888914c60",
            "3ca878796ce645c2aa568636e4fce9b9",
            "5f4cc482e76441c4879f16b6ad3b60d2"
          ]
        },
        "outputId": "21fa0c9c-3106-4681-f9b0-f8b703363360"
      },
      "source": [
        "def batch_tokenize_preprocess(batch, tokenizer, max_source_length, max_target_length):\n",
        "    source, target = batch[\"document\"], batch[\"summary\"]\n",
        "    source_tokenized = tokenizer(\n",
        "        source, padding=\"max_length\", truncation=True, max_length=max_source_length\n",
        "    )\n",
        "    target_tokenized = tokenizer(\n",
        "        target, padding=\"max_length\", truncation=True, max_length=max_target_length\n",
        "    )\n",
        "\n",
        "    batch = {k: v for k, v in source_tokenized.items()}\n",
        "    # Ignore padding in the loss\n",
        "    batch[\"labels\"] = [\n",
        "        [-100 if token == tokenizer.pad_token_id else token for token in l]\n",
        "        for l in target_tokenized[\"input_ids\"]\n",
        "    ]\n",
        "    return batch\n",
        "\n",
        "\n",
        "train_data = train_data_txt.map(\n",
        "    lambda batch: batch_tokenize_preprocess(\n",
        "        batch, tokenizer, encoder_max_length, decoder_max_length\n",
        "    ),\n",
        "    batched=True,\n",
        "    remove_columns=train_data_txt.column_names,\n",
        ")\n",
        "\n",
        "validation_data = validation_data_txt.map(\n",
        "    lambda batch: batch_tokenize_preprocess(\n",
        "        batch, tokenizer, encoder_max_length, decoder_max_length\n",
        "    ),\n",
        "    batched=True,\n",
        "    remove_columns=validation_data_txt.column_names,\n",
        ")"
      ],
      "execution_count": 8,
      "outputs": [
        {
          "output_type": "display_data",
          "data": {
            "text/plain": [
              "Map:   0%|          | 0/398 [00:00<?, ? examples/s]"
            ],
            "application/vnd.jupyter.widget-view+json": {
              "version_major": 2,
              "version_minor": 0,
              "model_id": "0e4f0cd35ea84e5aaaccee5ce3ba2e62"
            }
          },
          "metadata": {}
        },
        {
          "output_type": "display_data",
          "data": {
            "text/plain": [
              "Map:   0%|          | 0/100 [00:00<?, ? examples/s]"
            ],
            "application/vnd.jupyter.widget-view+json": {
              "version_major": 2,
              "version_minor": 0,
              "model_id": "5ab62bec7c19454ead1befa676f8a074"
            }
          },
          "metadata": {}
        }
      ]
    },
    {
      "cell_type": "code",
      "metadata": {
        "id": "rpNCGl2sYl2p",
        "colab": {
          "base_uri": "https://localhost:8080/"
        },
        "outputId": "631fedf6-c89b-44c4-9f23-3ef9801b598a"
      },
      "source": [
        "nltk.download(\"punkt\", quiet=False)\n",
        "\n",
        "metric = datasets.load_metric(\"rouge\")\n",
        "\n",
        "def postprocess_text(preds, labels):\n",
        "    preds = [pred.strip() for pred in preds]\n",
        "    labels = [label.strip() for label in labels]\n",
        "\n",
        "    # rougeLSum expects newline after each sentence\n",
        "    preds = [\"\\n\".join(nltk.sent_tokenize(pred)) for pred in preds]\n",
        "    labels = [\"\\n\".join(nltk.sent_tokenize(label)) for label in labels]\n",
        "\n",
        "    return preds, labels\n",
        "\n",
        "\n",
        "def compute_metrics(eval_preds):\n",
        "    preds, labels = eval_preds\n",
        "    if isinstance(preds, tuple):\n",
        "        preds = preds[0]\n",
        "    decoded_preds = tokenizer.batch_decode(preds, skip_special_tokens=True)\n",
        "    # Replace -100 in the labels as we can't decode them.\n",
        "    labels = np.where(labels != -100, labels, tokenizer.pad_token_id)\n",
        "    decoded_labels = tokenizer.batch_decode(labels, skip_special_tokens=True)\n",
        "\n",
        "    # Some simple post-processing\n",
        "    decoded_preds, decoded_labels = postprocess_text(decoded_preds, decoded_labels)\n",
        "\n",
        "    result = metric.compute(\n",
        "        predictions=decoded_preds, references=decoded_labels, use_stemmer=True\n",
        "    )\n",
        "    # Extract a few results from ROUGE\n",
        "    result = {key: value.mid.fmeasure * 100 for key, value in result.items()}\n",
        "\n",
        "    prediction_lens = [\n",
        "        np.count_nonzero(pred != tokenizer.pad_token_id) for pred in preds\n",
        "    ]\n",
        "    result[\"gen_len\"] = np.mean(prediction_lens)\n",
        "    result = {k: round(v, 4) for k, v in result.items()}\n",
        "    return result"
      ],
      "execution_count": 9,
      "outputs": [
        {
          "output_type": "stream",
          "name": "stderr",
          "text": [
            "[nltk_data] Downloading package punkt to /root/nltk_data...\n",
            "[nltk_data]   Package punkt is already up-to-date!\n",
            "<ipython-input-9-aaaa4d1e0cc1>:3: FutureWarning: load_metric is deprecated and will be removed in the next major version of datasets. Use 'evaluate.load' instead, from the new library 🤗 Evaluate: https://huggingface.co/docs/evaluate\n",
            "  metric = datasets.load_metric(\"rouge\")\n"
          ]
        }
      ]
    },
    {
      "cell_type": "code",
      "source": [
        "!pip install accelerate -U"
      ],
      "metadata": {
        "colab": {
          "base_uri": "https://localhost:8080/"
        },
        "id": "HzSk1kGs0-Im",
        "outputId": "3d25fd4c-3d4b-40a0-bb52-04da7d4a7514"
      },
      "execution_count": 12,
      "outputs": [
        {
          "output_type": "stream",
          "name": "stdout",
          "text": [
            "Looking in indexes: https://pypi.org/simple, https://us-python.pkg.dev/colab-wheels/public/simple/\n",
            "Collecting accelerate\n",
            "  Downloading accelerate-0.20.3-py3-none-any.whl (227 kB)\n",
            "\u001b[2K     \u001b[90m━━━━━━━━━━━━━━━━━━━━━━━━━━━━━━━━━━━━━━\u001b[0m \u001b[32m227.6/227.6 kB\u001b[0m \u001b[31m13.6 MB/s\u001b[0m eta \u001b[36m0:00:00\u001b[0m\n",
            "\u001b[?25hRequirement already satisfied: numpy>=1.17 in /usr/local/lib/python3.10/dist-packages (from accelerate) (1.22.4)\n",
            "Requirement already satisfied: packaging>=20.0 in /usr/local/lib/python3.10/dist-packages (from accelerate) (23.1)\n",
            "Requirement already satisfied: psutil in /usr/local/lib/python3.10/dist-packages (from accelerate) (5.9.5)\n",
            "Requirement already satisfied: pyyaml in /usr/local/lib/python3.10/dist-packages (from accelerate) (6.0)\n",
            "Requirement already satisfied: torch>=1.6.0 in /usr/local/lib/python3.10/dist-packages (from accelerate) (2.0.1+cu118)\n",
            "Requirement already satisfied: filelock in /usr/local/lib/python3.10/dist-packages (from torch>=1.6.0->accelerate) (3.12.0)\n",
            "Requirement already satisfied: typing-extensions in /usr/local/lib/python3.10/dist-packages (from torch>=1.6.0->accelerate) (4.5.0)\n",
            "Requirement already satisfied: sympy in /usr/local/lib/python3.10/dist-packages (from torch>=1.6.0->accelerate) (1.11.1)\n",
            "Requirement already satisfied: networkx in /usr/local/lib/python3.10/dist-packages (from torch>=1.6.0->accelerate) (3.1)\n",
            "Requirement already satisfied: jinja2 in /usr/local/lib/python3.10/dist-packages (from torch>=1.6.0->accelerate) (3.1.2)\n",
            "Requirement already satisfied: triton==2.0.0 in /usr/local/lib/python3.10/dist-packages (from torch>=1.6.0->accelerate) (2.0.0)\n",
            "Requirement already satisfied: cmake in /usr/local/lib/python3.10/dist-packages (from triton==2.0.0->torch>=1.6.0->accelerate) (3.25.2)\n",
            "Requirement already satisfied: lit in /usr/local/lib/python3.10/dist-packages (from triton==2.0.0->torch>=1.6.0->accelerate) (16.0.5)\n",
            "Requirement already satisfied: MarkupSafe>=2.0 in /usr/local/lib/python3.10/dist-packages (from jinja2->torch>=1.6.0->accelerate) (2.1.2)\n",
            "Requirement already satisfied: mpmath>=0.19 in /usr/local/lib/python3.10/dist-packages (from sympy->torch>=1.6.0->accelerate) (1.3.0)\n",
            "Installing collected packages: accelerate\n",
            "Successfully installed accelerate-0.20.3\n"
          ]
        }
      ]
    },
    {
      "cell_type": "code",
      "metadata": {
        "id": "6R9d7ELIpX9F"
      },
      "source": [
        "training_args = Seq2SeqTrainingArguments(\n",
        "    output_dir=\"results\",\n",
        "    num_train_epochs=1,  # demo\n",
        "    do_train=True,\n",
        "    do_eval=True,\n",
        "    per_device_train_batch_size=4,  # demo\n",
        "    per_device_eval_batch_size=4,\n",
        "    # learning_rate=3e-05,\n",
        "    warmup_steps=500,\n",
        "    weight_decay=0.1,\n",
        "    label_smoothing_factor=0.1,\n",
        "    predict_with_generate=True,\n",
        "    logging_dir=\"logs\",\n",
        "    logging_steps=50,\n",
        "    save_total_limit=3,\n",
        ")\n",
        "\n",
        "data_collator = DataCollatorForSeq2Seq(tokenizer, model=model)\n",
        "\n",
        "trainer = Seq2SeqTrainer(\n",
        "    model=model,\n",
        "    args=training_args,\n",
        "    data_collator=data_collator,\n",
        "    train_dataset=train_data,\n",
        "    eval_dataset=validation_data,\n",
        "    tokenizer=tokenizer,\n",
        "    compute_metrics=compute_metrics,\n",
        ")"
      ],
      "execution_count": 10,
      "outputs": []
    },
    {
      "cell_type": "code",
      "metadata": {
        "id": "5yveDiz7pm3i",
        "colab": {
          "base_uri": "https://localhost:8080/",
          "height": 235
        },
        "outputId": "6c7f646d-9c47-4cf6-c431-49c0321a9a38"
      },
      "source": [
        "trainer.evaluate()"
      ],
      "execution_count": 11,
      "outputs": [
        {
          "output_type": "stream",
          "name": "stderr",
          "text": [
            "You're using a BartTokenizerFast tokenizer. Please note that with a fast tokenizer, using the `__call__` method is faster than using a method to encode the text followed by a call to the `pad` method to get a padded encoding.\n"
          ]
        },
        {
          "output_type": "display_data",
          "data": {
            "text/plain": [
              "<IPython.core.display.HTML object>"
            ],
            "text/html": [
              "\n",
              "    <div>\n",
              "      \n",
              "      <progress value='25' max='25' style='width:300px; height:20px; vertical-align: middle;'></progress>\n",
              "      [25/25 00:12]\n",
              "    </div>\n",
              "    "
            ]
          },
          "metadata": {}
        },
        {
          "output_type": "execute_result",
          "data": {
            "text/plain": [
              "{'eval_loss': 6.659012317657471,\n",
              " 'eval_rouge1': 21.5508,\n",
              " 'eval_rouge2': 5.4549,\n",
              " 'eval_rougeL': 16.3929,\n",
              " 'eval_rougeLsum': 19.1353,\n",
              " 'eval_gen_len': 23.85,\n",
              " 'eval_runtime': 16.3103,\n",
              " 'eval_samples_per_second': 6.131,\n",
              " 'eval_steps_per_second': 1.533}"
            ]
          },
          "metadata": {},
          "execution_count": 11
        }
      ]
    },
    {
      "cell_type": "code",
      "metadata": {
        "id": "qYcYcbkr7ZZD",
        "colab": {
          "base_uri": "https://localhost:8080/",
          "height": 247
        },
        "outputId": "3cd70555-e750-4acc-f01a-821d699b4511"
      },
      "source": [
        "trainer.train()"
      ],
      "execution_count": 12,
      "outputs": [
        {
          "output_type": "stream",
          "name": "stderr",
          "text": [
            "/usr/local/lib/python3.10/dist-packages/transformers/optimization.py:411: FutureWarning: This implementation of AdamW is deprecated and will be removed in a future version. Use the PyTorch implementation torch.optim.AdamW instead, or set `no_deprecation_warning=True` to disable this warning\n",
            "  warnings.warn(\n"
          ]
        },
        {
          "output_type": "display_data",
          "data": {
            "text/plain": [
              "<IPython.core.display.HTML object>"
            ],
            "text/html": [
              "\n",
              "    <div>\n",
              "      \n",
              "      <progress value='100' max='100' style='width:300px; height:20px; vertical-align: middle;'></progress>\n",
              "      [100/100 00:42, Epoch 1/1]\n",
              "    </div>\n",
              "    <table border=\"1\" class=\"dataframe\">\n",
              "  <thead>\n",
              " <tr style=\"text-align: left;\">\n",
              "      <th>Step</th>\n",
              "      <th>Training Loss</th>\n",
              "    </tr>\n",
              "  </thead>\n",
              "  <tbody>\n",
              "    <tr>\n",
              "      <td>50</td>\n",
              "      <td>6.449200</td>\n",
              "    </tr>\n",
              "    <tr>\n",
              "      <td>100</td>\n",
              "      <td>5.549700</td>\n",
              "    </tr>\n",
              "  </tbody>\n",
              "</table><p>"
            ]
          },
          "metadata": {}
        },
        {
          "output_type": "execute_result",
          "data": {
            "text/plain": [
              "TrainOutput(global_step=100, training_loss=5.999446716308594, metrics={'train_runtime': 42.7141, 'train_samples_per_second': 9.318, 'train_steps_per_second': 2.341, 'total_flos': 123212424806400.0, 'train_loss': 5.999446716308594, 'epoch': 1.0})"
            ]
          },
          "metadata": {},
          "execution_count": 12
        }
      ]
    },
    {
      "cell_type": "code",
      "metadata": {
        "id": "_-QyUtCRH9DO",
        "colab": {
          "base_uri": "https://localhost:8080/",
          "height": 215
        },
        "outputId": "09ddffee-41e9-4713-db4d-bba9cc78ac04"
      },
      "source": [
        "trainer.evaluate()"
      ],
      "execution_count": 13,
      "outputs": [
        {
          "output_type": "display_data",
          "data": {
            "text/plain": [
              "<IPython.core.display.HTML object>"
            ],
            "text/html": [
              "\n",
              "    <div>\n",
              "      \n",
              "      <progress value='50' max='25' style='width:300px; height:20px; vertical-align: middle;'></progress>\n",
              "      [25/25 01:37]\n",
              "    </div>\n",
              "    "
            ]
          },
          "metadata": {}
        },
        {
          "output_type": "execute_result",
          "data": {
            "text/plain": [
              "{'eval_loss': 5.160035610198975,\n",
              " 'eval_rouge1': 23.652,\n",
              " 'eval_rouge2': 7.8734,\n",
              " 'eval_rougeL': 18.7027,\n",
              " 'eval_rougeLsum': 21.8189,\n",
              " 'eval_gen_len': 17.19,\n",
              " 'eval_runtime': 16.6427,\n",
              " 'eval_samples_per_second': 6.009,\n",
              " 'eval_steps_per_second': 1.502,\n",
              " 'epoch': 1.0}"
            ]
          },
          "metadata": {},
          "execution_count": 13
        }
      ]
    },
    {
      "cell_type": "code",
      "metadata": {
        "id": "NV64-XdA_rOM",
        "colab": {
          "base_uri": "https://localhost:8080/"
        },
        "outputId": "5264c097-845c-45e6-c6b9-4f36f50e8c4f"
      },
      "source": [
        "def generate_summary(test_samples, model):\n",
        "    inputs = tokenizer(\n",
        "        test_samples[\"document\"],\n",
        "        padding=\"max_length\",\n",
        "        truncation=True,\n",
        "        max_length=encoder_max_length,\n",
        "        return_tensors=\"pt\",\n",
        "    )\n",
        "    input_ids = inputs.input_ids.to(model.device)\n",
        "    attention_mask = inputs.attention_mask.to(model.device)\n",
        "    outputs = model.generate(input_ids, attention_mask=attention_mask)\n",
        "    output_str = tokenizer.batch_decode(outputs, skip_special_tokens=True)\n",
        "    return outputs, output_str\n",
        "\n",
        "\n",
        "model_before_tuning = AutoModelForSeq2SeqLM.from_pretrained(model_name)\n",
        "\n",
        "test_samples = validation_data_txt.select(range(16))\n",
        "\n",
        "summaries_before_tuning = generate_summary(test_samples, model_before_tuning)[1]\n",
        "summaries_after_tuning = generate_summary(test_samples, model)[1]"
      ],
      "execution_count": 14,
      "outputs": [
        {
          "output_type": "stream",
          "name": "stderr",
          "text": [
            "/usr/local/lib/python3.10/dist-packages/transformers/generation/utils.py:1353: UserWarning: Using `max_length`'s default (62) to control the generation length. This behaviour is deprecated and will be removed from the config in v5 of Transformers -- we recommend using `max_new_tokens` to control the maximum length of the generation.\n",
            "  warnings.warn(\n"
          ]
        }
      ]
    },
    {
      "cell_type": "code",
      "metadata": {
        "id": "D7IPtJLjCcmS",
        "colab": {
          "base_uri": "https://localhost:8080/"
        },
        "outputId": "72e428b2-aa6b-40c8-e724-40541d7df3d5"
      },
      "source": [
        "print(\n",
        "    tabulate(\n",
        "        zip(\n",
        "            range(len(summaries_after_tuning)),\n",
        "            summaries_after_tuning,\n",
        "            summaries_before_tuning,\n",
        "        ),\n",
        "        headers=[\"Id\", \"Summary after\", \"Summary before\"],\n",
        "    )\n",
        ")\n",
        "print(\"\\nTarget summaries:\\n\")\n",
        "print(\n",
        "    tabulate(list(enumerate(test_samples[\"summary\"])), headers=[\"Id\", \"Target summary\"])\n",
        ")\n",
        "print(\"\\nSource documents:\\n\")\n",
        "print(tabulate(list(enumerate(test_samples[\"document\"])), headers=[\"Id\", \"Document\"]))"
      ],
      "execution_count": 16,
      "outputs": [
        {
          "output_type": "stream",
          "name": "stdout",
          "text": [
            "  Id  Summary after                                                                                Summary before\n",
            "----  -------------------------------------------------------------------------------------------  -------------------------------------------------------------------------------------------------------------------------------------------------------\n",
            "   0  Find the Herobrine Texture Pack in the Google Play Store.                                    If you are looking for a way to summon Herobrine in Minecraft PE, followed by a series of mods.\n",
            "   1  If you want to save a copy of your blog. Download Blog in the dialog box that pops up.       If you're not automatically logged in to Blogger, and you can now delete your blog.\n",
            "   2  If you have stomach or abdominal pain that is so severe you can’t get comfortable.           Cholecystitis, or bile build-up in the gallbladder, can be a sign of a serious illness.\n",
            "   3  Drink plenty of water to help alleviate some of the mild symptoms of depression.             If you are diagnosed with depression, eat plenty of water and are likely to show signs of depression, according to the World Health Organization (WHO).\n",
            "   4  Get your hands dirty (and smelly) from the stinkhorn fungus.                                 If you want to get your hands dirty (and smelly) from the stinkhorn fungus, you use a shovel to kill the fungus.\n",
            "   5  Cover the container of ice cream for up to 6 hours.                                          If you want to make your own ice cream, you need to make the most of it in the freezer.\n",
            "   6  dabbing at the stain with a dampened sponge and cloth.                                       If you are trying to remove a perfume stain from cotton, linen, nylon, polyester, spandex or wool, first pat at the stain.\n",
            "   7  The total number content on the label is fat.                                                On the label of food, there is a lot of information about the calories you consume.\n",
            "   8  It is illegal to have a child and not pay child support.                                     If you have a child and have the rights to custody or visitation, you must be able to establish who the father is.\n",
            "   9  Turn off the main gas valve from the outside before entering the house.                      If your home is damaged in the aftermath of the earthquake, you may want to know what to do.\n",
            "  10  Turn off and drain your fountain and drain the fountain to ensure the pump stays submerged.  Do you use your fountain to fill it with cold water?\n",
            "  11  Write a rubric. Write your own rubric to your students.                                      Write a rubric to your students so they can interpret the grades they receive.\n",
            "  12  Use a homemade sling to set a broken bone or a dislocated limb.                              If you have a broken bone or a dislocated limb, you may need to think again.\n",
            "  13  Click PayPal to create a payment button for your website.                                    PayPal is a new way to make your website easier for your customers to pay for their goods.\n",
            "  14  You need to make a copy of the forms you need.                                               If you are looking for a guardian, then you need to fill the forms.\n",
            "  15  If you're interested in learning the meaning of dreams and dream symbols.                    If you're looking into dreams and their function, you might want to know what they mean.\n",
            "\n",
            "Target summaries:\n",
            "\n",
            "  Id  Target summary\n",
            "----  ----------------------------------------------------------------------------------------------------------------------------------------------------------------------------------------------------------------------------------------------------------------------------------------------------------------------------------------------------------------------------------------------------------------------------------------------------------------------------------------------------------------------------------------------------------------------------------------------------------------------------------------------------------------------------------------------------------------------------------------------------------------------------------------------------------------------------------------------------------------------------------------------------------------------------------------\n",
            "   0  Download and install the BlockLauncher app. Visit a Minecraft PE mod site. Search for a Herobrine mod. Tap the \"Download Script\" link at the bottom of the page. Tap the \"Download Texture Pack\" link. Start Minecraft PE. Select \"Launcher Options (Requires restart)\". Restart Minecraft PE and open the BlockLauncher menu again. Summon Herobrine.\n",
            "   1  Go to Blogger. Click on ▼. Click on the blog you wish to delete. Click on Settings. Click on Other. Click on Delete Blog. Click on Delete This Blog.\n",
            "   2  See your doctor if you have pain after eating. Get emergency medical care if you have severe abdominal pain.\n",
            "   3  Eat nutrient-rich foods. Drink lots of water. Take fish oil supplements. Increase your intake of folate.\n",
            "   4  Dig out the mushroom from its base. Remove the immediate soil. Place the bag out for trash collection. Spray the area with an environmentally approved fungal killer.\n",
            "   5  Freeze a freezer-safe container. Repeat the process of freezing and beating for about 2 hours.\n",
            "   6  Dab the stain with water. Create a dishwashing detergent solution. Apply the detergent solution to the stain. Place folded paper towel on top of the detergent solution. Change the paper towel as it absorbs the stain. Apply rubbing alcohol to the stain. Change out the paper towel. Soak the fabric in water and baking soda, then wash.\n",
            "   7  Note how many calories are in each serving. Read the fat content in a serving and check what types of fat are present. See how much cholesterol each serving has. Check the sodium content of the food. Look at the total carbohydrates contained in each serving. Check how much fiber you can get from a serving. Read the sugar content and check for added sugars. Note how much protein is in each serving. Check the vitamins and additional nutrients listed at the bottom.\n",
            "   8  Establish parentage. Sign a Voluntary Declaration of Paternity. File your Voluntary Declaration of Paternity with the Paternity Opportunity Program (POP). Bring an action to establish parentage. Fill out a Stipulation and Order for Custody and/or Visitation Form. Make copies of your forms. File the forms with your county clerk.\n",
            "   9  Walk carefully around the outside and check for loose power lines, gas leaks, and structural damage. Do not enter your home if you smell gas, if flood waters remain around the building, or if your home was damaged by fire and the authorities have not declared it safe. Enter the home carefully and check for damage. Pay attention for the smell of gas or hissing or blowing sounds. Check the electrical system unless you are wet, standing in water, or unsure of your safety. Turn off the electricity at the main fuse box or circuit breaker if the appliances are wet. Turn off the main water valve if pipes are damaged. Throw out all food and other supplies that you suspect may have become contaminated or come in to contact with floodwater. Pump water out of your basement if it is flooded, but do so gradually (about one third of the water per day) to avoid damage. Clean up household chemical spills. .\n",
            "  10  Change your fountain water monthly. Clean your water pump. Submerge the pump. Deep clean your fountain.\n",
            "  11  Use a rubric Know or assign a description of each letter grade. Make the grade the last thing the student sees.\n",
            "  12  Seek medical attention for broken bones or dislocations. Head straight to the emergency room if you can see a bone in the wound. Only try to reset a bone if you are at risk of losing a limb.\n",
            "  13  Place a payment button on your business's website. Log in to your account from the PayPal home page. On your account page, select \"Merchant Services. Select your desired button. Select \"Save Changes\" at the bottom of the page.\n",
            "  14  Decide to seek custody as a non-parent. Fill out a Petition for Appointment of Guardianship form. Have your forms reviewed. Make copies of your forms. File the forms with your county clerk. Give notice to all parties. File Proof of Service forms with your county. Attend your hearing. File your court order.\n",
            "  15  Read up on dreams and the dream science. Be aware of dream interpretation's limits. Take online resources with a grain of salt.\n",
            "\n",
            "Source documents:\n",
            "\n",
            "  Id  Document\n",
            "----  ----------------------------------------------------------------------------------------------------------------------------------------------------------------------------------------------------------------------------------------------------------------------------------------------------------------------------------------------------------------------------------------------------------------------------------------------------------------------------------------------------------------------------------------------------------------------------------------------------------------------------------------------------------------------------------------------------------------------------------------------------------------------------------------------------------------------------------------------------------------------------------------------------------------------------------------------------------------------------------------------------------------------------------------------------------------------------------------------------------------------------------------------------------------------------------------------------------------------------------------------------------------------------------------------------------------------------------------------------------------------------------------------------------------------------------------------------------------------------------------------------------------------------------------------------------------------------------------------------------------------------------------------------------------------------------------------------------------------------------------------------------------------------------------------------------------------------------------------------------------------------------------------------------------------------------------------------------------------------------------------------------------------------------------------------------------------------------------------------------------------------------------------------------------------------------------------------------------------------------------------------------------------------------------------------------------------------------------------------------------------------------------------------------------------------------------------------------------------------------------------------------------------------------------------------------------------------------------------------------------------------------------------------------------------------------------------------------------------------------------------------------------------------------------------------------------------------------------------------------------------------------------------------------------------------------------------------------------------------------------------------------------------------------------------------------------------------------------------------------------------------------------------------------------------------------------------------------------------------------------------------------------------------------------------------------------------------------------------------------------------------------------------------------------------------------------------------------------------------------------------------------------------------------------------------------------------------------------------------------------------------------------------------------------------------------------------------------------------------------------------------------------------------------------------------------------------------------------------------------------------------------------------------------------------------------------------------------------------------------------------------------------------------------------------------------------------------------------------------------------------------------------------------------------------------------------------------------------------------------------------------------------------------------------------------------------------------------------------------------------------------------------------------------------------------------------------------------------------------------------------------------------------------------------------------------------------------------------------------------------------------------------------------------------------------------------------------------------------------------------------------------------------------------------------------------------------------------------------------------------------------------------------------------------------------------------------------------------------------------------------------------------------------------------------------------------------------------------------------------------------------------------------------------------------------------------------------------------------------------------------------------------------------------------------------------------------------------------------------------------------------------------------------------------------------------------------------------------------------------------------------------------------------------------------------------------------------------------------------------------------------------------------------------------------------------------------------------------------\n",
            "   0  This is a free app that manages mod files so that they can be loaded into Minecraft PE.  It is not possible to summon Herobrine without installing a mod. BlockLauncher only works with the paid version of Minecraft PE downloaded from the Google Play Store. Note that the mod described in this method does not currently work with version 0.10.0. One of the most popular sites is mcpedl.com. Because these are user created mods, there will likely be several to choose from, all with differing functions. One of the most highly-rated Herobrine mods on mcpedl.com is \"Lord Herobrine\". Another popular Herobrine mod is Herobrine/Holy Mod by mclover521. The instructions for installing both mods are the same. Find the download link to download the .js file to your Android device. Find the download link to download the .zip file to your Android device. You should see a \"BlockLauncher\" option on the main menu. Tap it to open the BlockLauncher menu. This will allow you to load the Herobrine Texture Pack.  Tap \"Texture Pack\". Tap \"Select\". Open the \"Download\" folder. Select the .zip file that you just downloaded. Select \"Manage ModPE scripts\". This will allow you to load the Herobrine script file.  Tap the \"Import\" button. Select \"Local storage\" from the list of options. Select your \"Download\" folder from the list of options. Tap the .js file that you downloaded. This will load the Herobrine mod into Minecraft PE. Now that you've loaded the Herobrine mod, you can summon Herobrine in your Minecraft game.  Gather your materials. You'll need two Gold Blocks, two Netherrack Blocks, and Flint and Steel. Stack the Gold Blocks on top of each other. Stack the Netherrack Blocks on top of the Gold Blocks to make a pillar. Use the Flint and Steel to start a Fire on top of the Netherrack. You will receive a message indicating that Herobrine has been summoned to your world.\n",
            "   1  If you're not automatically logged in, click on Sign In in the upper right, and enter your Google username and password. The window will open to the main screen of your most-recently accessed blog. It's located to the right of your blog's title, just below the Blogger logo in the upper left of the window. All of your Blogger blogs will appear in the drop-down you just opened. Only owners or admins can delete a blog. It's near the bottom of the menu on the left side of the window. You may have to scroll down to see it. It's near the bottom of the sub-menu that opens under Settings. It's on the right side of the screen, in the second section of options. If you want to save a copy of your blog, click Download Blog in the dialog box that pops up. Your blog has been deleted from your Blogger account. You'll have 90 days to change your mind and restore the blog. You can do so from the Deleted Blogs list in the drop-down menu of your Blogger blogs.\n",
            "   2  The most common indication of cholecystitis is pain after you eat, especially after eating a large or fatty meal. The pain is usually in your upper right abdomen. See your doctor if this occurs regularly or suddenly.  The pain can sometimes also be felt in your right shoulder, between your shoulder blades on your back, or in the center of your abdomen just below your breastbone. It may also feel tender when you touch your abdomen. Pain can last from a few minutes to hours. You may also have nausea, vomiting, or a fever (a temperature of 100.4°F/38°C or higher). Cholecystitis is often caused by gallstones that block the bile duct and cause bile build-up in the gallbladder. It’s important to see your doctor to resolve the problem and prevent complications like gallbladder rupture. Seek emergency care if you have stomach or abdominal pain that is so severe you can’t sit still or get comfortable. This can be a sign of a serious illness that needs prompt treatment. Have someone drive you to the hospital, or call emergency services for help.  If you get a high fever of 104°F/40°C or higher, or the whites of your eyes turn yellow, call for emergency care. If you have acute symptoms, you need to go to the hospital immediately for a prompt diagnosis and to receive intravenous fluids. A surgical consultation is also necessary.  Although you may not need immediate surgery, inpatient care and initial supportive care are necessary.\n",
            "   3  Sometimes it can be difficult to observe how your nutrition affects your mood since food's effect is not immediate. However, it is important to pay attention to what you eat and how it makes you feel to track your depression.  Eat foods that relate to fewer symptoms of depression, including fruit, vegetables, and fish.  Avoid foods that relate to more symptoms of depression, including processed foods such as processed meats, chocolates, sweet desserts, fried foods, processed cereals and high-fat dairy products. Dehydration can contribute to emotional and physical changes. Your mood can be negatively affected even by mild dehydration.  Drink plenty of water throughout the day, not just when you feel thirsty or when you exercise. Men should aim to drink about 13 eight-ounce servings of water per day, and women should drink 9 eight-ounce servings of water per day. People with depression may have low levels of certain brain chemicals, eicosapentaenoic acid (EPA) and docosahexaenoic acid (DHA). Fish oil capsules have omega-3 fatty acids and contain EPA and DHA. These can help alleviate some mild symptoms of depression. Take 3 grams or less per day. Higher doses of fish oil can prevent your blood from clotting, which can increase the chance of bleeding. Many people experiencing depression have a deficiency of folate, which is a B vitamin. Increase your folate levels by eating lots of spinach, nuts, beans, asparagus and Brussels sprouts.\n",
            "   4  Don’t simply clip off the above-ground portion of the mushroom; you’ll need to dig beneath it until you’ve scooped out the mushroom’s egg-shaped base. Also dig under any nearby round white egg-shaped growths, as these are going to be new stinkhorns soon. Secure the foul smelling removed material in a plastic bag. If you don’t want to get your hands dirty (and smelly) from the stinkhorn, put on a pair of cheap latex disposable gloves. Put these in an airtight plastic bag and throw them away immediately after you finish killing the mushrooms. There may be spores or other undeveloped mushrooms in the soil immediately surrounding the mushroom you’ve removed, so dig up the top layer of soil in about a 6-inch radius around the mushroom you’ve removed. If the fungus grew in a medium other than soil—such as tree bark, mulch, or other loose decaying plant material—remove this using the shovel as well. Place the excavated soil (or other material) in the plastic bag along with the stinkhorn fungus. Then, seal the bag firmly shut. Do not place the discarded fungal matter with yard waste, since, if the bag were to rupture or open, spores could escape and create new mushrooms. After these steps, if mushrooms begin to reoccur, you may need to apply a chemical agent. This will make sure that the mushroom and surrounding spores are truly dead. After applying the fungal killer spray as directed on the packaging, allow the affected area to receive sunlight and dry out. The spray should also keep recurrence to a minimum. You should be able to find a safe, nontoxic fungal killer spray at your local plant nursery or gardening center.\n",
            "   5  You’ll need a freezer-safe, shallow pan or bowl to make the ice cream. Before you begin making the base, place the container in the freezer to chill it for 3 to 6 hours. A stainless steel pan that’s approximately 9 by 13 inches (23 by 33 cm) works well for making the ice cream. After you’ve broken up the ice cream into creamier texture, cover it again and return it to the freezer. Let it chill for another 20 to 30 minutes and then mix it again. Repeat this process another 3 to 4 times until the ice cream is firm but still creamy and smooth. If you’d like to add crumbled cookies, brownies, or candy to the ice cream, mix them in by hand just before the last time you return the ice cream to the freezer.\n",
            "   6  If you are trying to remove a perfume stain from cotton, linen, nylon, polyester, spandex or wool, first pat at the stain with a dampened sponge or cloth. Make sure not to rub the stain; instead, use a light hand and dab with patting movements, starting from the center of the stain and working out. Dabbing at the stain works especially well for fresh stains, because moistening the stain prevents it from spreading and setting in the fabric. If the stain is fresh, dabbing at the stain may be enough to absorb and remove the stain. If the perfume stain you are removing isn’t fresh, just dabbing at it may not be enough. To more aggressively combat the stain, create a solution that is one part glycerin, one part dishwashing detergent and 8 parts water.  If you just have a small stain, use one teaspoon or tablespoon of glycerin and dishwashing detergent and 8 teaspoons or tablespoons of water. Stir the detergent solution to mix thoroughly. After you have mixed together your detergent solution, pour a small amount onto the stain. Make sure to only apply the solution to the stain, not to the surrounding area. Once you have applied the detergent solution, fold up a sheet of paper towel and place it on top of the stain. Then let the detergent work on the fabric for about ten minutes. As the detergent solution works to lift up the stain, the paper towel will absorb the stain out of the fabric. After about ten minutes, check on the paper towel. If you see that some of the oily stain has transferred to the paper towel, swap the paper towel out for another folded sheet. Keep repeating this process until no more stain gets lifted.  If you notice that the area of the stain is drying, add more detergent solution. If none of the stain seems to have been removed, keep the original paper towel there and keep checking until some of the stain has been absorbed. If you still notice stain remnant after using the detergent solution lifting process, dip a cotton ball in rubbing solution and dab the rubbing alcohol over the stain. Then dab a teaspoon or so of rubbing alcohol to a sheet of folded paper towel and place it over the stain. The rubbing alcohol and paper towel will work in a similar way as the detergent solution, they are just slightly more powerful as cleaning agents. Look at the paper towel after ten minutes or so. If you notice that some of the stain is lifted, change out the paper towel. If nothing has been absorbed, place the paper towel back on the rubbing alcohol and the stain and keep checking until some of the stain has been lifted.  Add rubbing alcohol if you notice that the stain is drying. Keep repeating this process until no more of the stain is being lifted. If the stain has been completely removed, flush the garment with water to remove any detergent solution or rubbing alcohol, then hang the garment up to dry. If hand-removing the stain hasn’t worked, soak the fabric in a solution of one part water and one part baking soda for 10-15 minutes. Then launder as usual in the washer and dryer.\n",
            "   7  A calorie is a unit of energy, and can come from a variety of different sources. How many calories you consume in a day determines how much energy you provide for your body. If you consume too many calories on a daily basis, you can gain weight as the energy is converted to fat. If you eat fewer calories than your body needs, you can burn fat and lose weight.  Ingredients that are calorie-dense, like butter, oil, or sugar, tend to be bad for you. Foods that tend to have a low caloric content are usually good for you, like avocado, celery, or corn. Empty calories refer to calories that are low in nutritional value, like pizza, soda, or sausage. The next row on the label is fat, and it is accompanied by 2 different types of fat underneath the total number content. Fat helps provide cell development and stores energy in the body. It is found in a lot of plants and animals, and isn't necessarily bad for you if you don't have too much of it.  Saturated fat refers to fats that come from animals. They are worse for your body than unsaturated fats. Trans fats are a kind of unsaturated fat found in oils. They are especially bad for you, and you should avoid foods with a lot of trans fat in them at all costs. Cholesterol is a fat-like material that occurs naturally in your body. You need some forms of cholesterol to regulate hormones, but too much cholesterol can increase your risk for heart disease. Avoid foods with high cholesterol values whenever you can to keep your heart happy and healthy.  There are 3 main types of cholesterol: HDL, LDL, and VLDL. They refer to the density of the cholesterol. Your body needs some HDL to keep your liver healthy, but LDL and VLDL should be avoided. Red meats and junk foods tend to be high in cholesterol. Under cholesterol, you can find the sodium content in a single serving. Sodium is found in salt, and your body needs less than 500 milligrams a day. Too much sodium can cause your blood pressure to rise, which can increase your risk of stroke, heart failure, osteoporosis, and cancer. Stay away from foods that are high in sodium whenever you can.  If you're trying to cut down on sodium, consider cutting soda and junk food out of your diet completely. Try to consume less than 20% of your daily value in sodium every day. Carbohydrates are nutrients that produce calories. They generate fuel for the nervous system and muscles, and help your body metabolize fats. Carbohydrates can be bad for you if they come from a source that is high in fat, sodium, or cholesterol (such as some pasta dishes, pizza, or dairy products).  Eating too many carbohydrates can put you at risk of weight gain and type 2 diabetes. Not eating enough carbohydrates can result in hypoglycemia or energy loss. Fiber is a nutrient found in fruits, vegetables, grains, and legumes. Fiber helps your digestive tract and aids in the burning of fat. Eating fiber is a good way to promote a healthy diet, and foods that tend to be high in fiber are usually very good for you. Aim to consume at least 20-30 grams of fiber every day.  Fiber can also counteract high cholesterol levels if you consume enough of it on a daily basis. There are fiber supplements that you can take to artificially raise your fiber intake every day. There are 2 types of sugar, natural and added sugar. Natural sugars are found in fruit and dairy products and aren't bad for you in small amounts. Added sugars are harder for your body to digest, and should be avoided whenever possible. Natural sugars usually come in foods that are high in fiber or protein, while added sugars are can lead to weight gain, heart problems, or type 2 diabetes. Added sugars are only listed on some food labels. To make sure that there are no added sugars, look for the phrase “sugar free” printed on a container or check for corn sweetener, high-fructose corn syrup, or sugar in the ingredients list. Protein is a nutrient that promotes muscle growth and health. It is often found in meat, but also appears naturally in nuts, legumes, and eggs. Protein also helps the immune system and aids your body's metabolism. Don't focus exclusively on a food's protein content though, since a lot of high-protein foods often come alongside high fat, sodium, or cholesterol contents.  Try to get protein in foods that are also low in carbohydrates or calories. Seafood, vegetables, and lean meats are all excellent sources of protein. You can increase your daily protein intake by mixing protein powder into shakes if you want to get enough protein without increasing the amount that you're eating every day. Under the protein or fiber, you'll see a black bar separating another set of ingredients. These are vitamins, minerals, and nutrients that are found in the food. The most common inclusions are vitamin A, vitamin C, calcium, and iron. These nutrients are good for you, and if the list under this black bar is longer, then the food is probably healthy for you.  Vitamin A helps promote vision and keeps your immune and reproductive systems operating at a healthy level. It also helps your lungs, kidneys, and other organs functioning normally.  Vitamin C helps repair body tissue and promotes healthy skin.  Calcium keeps your bones healthy and strong. It also helps blood clot and makes it easier for muscles to contract. Calcium consumption is important when you're young.  Iron transports oxygen in your blood and helps to convert nutrients into energy. If you're iron deficient, you could become anemic.\n",
            "   8  To have full rights to custody or visitation, the father must be recognized as a legal parent. Once paternity is legally recognized, he has rights to custody or visitation, and also the obligation to child support. It is illegal to have a child and not pay toward his or her well-being. This is the simplest way to establish paternity.  This can be done at your local court, welfare office, family law facilitator or registrar of births. You can also receive the form by mail and sign it before a notary public. POP is a program in the California Department of Child Support Services that acts as a court. Once your declaration is filed here, the declaration will be legally binding and you will have custody rights. You will need to apply for a new birth certificate with the father's name afterward. If there is a dispute about who the father is, you will have to talk to your family law facilitator about how to bring an action in your specific case. You can find your family law facilitator by following the link for your county from the California Court’s Family Law Facilitators List. This will need to be signed by both parties once the father has been established as having the rights and responsibilities of a legal parent. In order to fill out this form, you will need to come to a custody and visitation agreement. You need to make a copy for yourself and for the other parent. The original will be filed with the court. The court will stamp the papers as \"filed,\" keeping the original and returning the copies to you.  Once the forms are filed, the court has approved the order and it is legally binding.\n",
            "   9  If you have any doubts about safety, have your residence inspected by a qualified building inspector or structural engineer before entering. If it looks like the building may collapse, do not enter the house, or if you have entered, leave immediately. Be aware of loose boards and slippery floors. Use a battery-powered flashlight to inspect a damaged home. The flashlight should be turned on outside before entering—the battery may produce a spark that could ignite leaking gas, if present. If you notice these, open a window and leave immediately. Turn off the main gas valve from the outside, if you can. Call the gas company from a neighbor's residence. If you shut off the gas supply at the main valve, you will need a professional to turn it back on. Do not smoke or use oil, gas lanterns, candles, or torches for lighting inside a damaged home until you are sure there is no leaking gas or other flammable materials present. If possible, turn off the electricity at the main fuse box or circuit breaker. If the situation is unsafe, leave the building and call for help. Do not turn on the lights until you are sure they're safe to use. You may want to have an electrician inspect your wiring. Then, unplug appliances and let them dry out. Have appliances checked by a professional before using them again. Also, have the electrical system checked by an electrician before turning the power back on. Check with local authorities before using any water; the water could be contaminated. Pump out wells and have the water tested by authorities before drinking. Do not flush toilets until you know that sewage lines are intact.  The walls may collapse and the floor may buckle if the basement is pumped out while the surrounding ground is still waterlogged. Disinfect items that may have been contaminated by raw sewage, bacteria, or chemicals. Also clean salvageable items. all your insurance agent. Take pictures of damages. Keep good records of repair and cleaning costs.\n",
            "  10  Changing the water helps eliminate current living algae and prevents buildup in your fountain’s pump system. Completely empty your fountain of cold water and allow it air dry before filling the fountain. If possible, rinse down your fountain and wipe away any buildup or residue from the fountain surface as well as any decorative features such as stones before refilling it. The pump is responsible for cycling water through the fountain, reducing algae's ability to grow. Scrub the pump's parts with a sponge or a firm-bristled toothbrush and distilled water. If you need to open the pump in order to get at interior parts, follow the manufacturer's instructions. All pumps are different, and what works for one pump may not work for another. The pump cannot function unless it is entirely underwater. Keep the pump submerged to keep water cycling through and prevent algae from building and growing on the surface. It is common to have to add water to your fountain for the first several days after setting it up in order to ensure the pump stays submerged. Your fountain should receive a deep cleaning every two months. Turn off and drain the fountain and wipe it down with a fountain cleaning solution, which may be available from a specialty retailer or online, or dish soap.  Opt for dish soap if you are looking for a product that is friendly to animals such as birds and small mammals that may make use of your fountain. Go over the fountain with a toothbrush to scrape off algae and other organic matter. Be sure to thoroughly rinse the fountain after using soap, as it may damage the fountain if left on its surface. Clean the fountain's tubes using pipe cleaners, such as can be found at any hardware or craft store, to scrub out the pipe interiors.\n",
            "  11  and let the students see it. A rubric is used to assign numerical values to various criteria used to make up the letter grade, usually based on a scale of 100. To get a letter grade, you assign numerical values to each section and tally the score. Making the students aware of the rubric used will keep the process transparent and eliminate the idea that you pull arbitrary grades out of nowhere. A rubric, for example, might look like this:  Thesis and argument: _/40 Organization and paragraphs: _/30 Introduction and conclusion: _/10 Grammar, usage, and spelling: _/10 Sources and Citations: _/10 Let the students see a description of what an A means, what a B means, etc. Write your own according to your own specific criteria and emphasis for the class. Share it with the students so they can interpret the grade they receive. These are fairly standard designations, often worded like this:  A (100-90): Work completes all of the requirements of the assignment in an original and creative manner. Work at this level goes beyond the basic guidelines of the assignment, showing the student took extra initiative in originally and creatively forming content, organization, and style. B (89-80): Work completes all of the requirements of the assignment. Work at this level is successful in terms of content, but might need some improvement in organization and style, perhaps requiring a little revision. A B reveals less of the author’s original thought and creativity than A-level work. C (79-70): Work completes most of the requirements of the assignment. Though the content, organization, and style are logical and coherent, they may require some revision and may not reflect a high level of originality and creativity on the part of the author. D (69-60): Work either does not complete the requirements of the assignment, or meets them quite inadequately. Work at this level requires a good deal of revision, and is largely unsuccessful in content, organization, and style. F (Below 60): Work does not complete the requirements of the assignment. In general, students who put forth genuine effort will not receive an F. If you receive an F on any assignment (particularly if you feel you have given adequate effort), you should speak with me personally. Put the grade at the very end of the paper, after they've seen the rubric and your comments. Slapping a big letter grade at the top near the title will ensure that the student probably won't go through and read all the smart and helpful comments you've included. Some teachers like to hand out papers at the end of the day because they fear discouraging or distracting students during class time. Consider giving the students time to go through the papers in class and be available to talk about their grades afterwards. This will ensure that they read and understand your comments.\n",
            "  12  A homemade sling may be a good choice for minor arm injuries, but it's not enough to ensure proper healing in the case of serious fractures or dislocations. Allow a doctor to examine the injury, take x-rays, and discuss a treatment plan with you. A doctor's final treatment plan may involve the use of a sling – but your injury might also require a cast or surgery. If you use a homemade sling to set a broken bone or a dislocated limb, your arm might heal poorly. You may experience lasting discomfort, and you may need further medical attention.  Common symptoms of broken arms include: Intense pain Tenderness Swelling Loss of motion or decreased sensation Possible open wound with bone sticking out Difference in appearance relative to the uninjured arm   Common symptoms of dislocated arms (most commonly in the form of a dislocated shoulder) include: Pain in the arm, shoulder, and/or collarbone Deformation (a bump on or near the shoulder) Swelling Bruising When a broken bone sticks through the skin—or a wound forms in which bone is visible following a fracture—this is called an \"open fracture\" or \"compound fracture.\" These fractures are exceptionally painful, dangerous, and difficult to treat. Be aware that the types of injuries that cause compound fractures can also cause other serious trauma. It is essential that you get yourself prompt, effective medical treatment. Do not try to realign compound fractures without the help of a qualified medical professional. The only exceptions to this rule are rare, special cases: when you will not be able to secure immediate medical treatment, and setting a compound fracture by hand is preferable to the alternative of doing nothing at all. You should only ever attempt to realign broken bones when signs of poor circulation appear. Again: if possible, wait for a doctor to reset your broken bones. The exception is when it appears that a fracture is preventing blood from circulating through the limb. Your limb may not be receiving any blood if the area of the limb past the fracture looks pale or blue, has no pulse, loses sensation, or grows cold. In these cases, the potential loss of the limb outweighs the dangers of having an amateur re-set the bone – or of doing the job yourself. If this is the case, visit How to Realign a Fractured Bone for more information.\n",
            "  13  If you haven't already, first create a PayPal business account as described in Part 1. Your customer will be able to click on the payment button on your website and easily make a payment using a credit card, a debit card or a checking account. PayPal also allows you to send invoices with a \"Pay Now\" button linked to PayPal that allows your customers to pay instantly. Use the \"login\" bar in the top right.  You'll need to input your email address and the password you chose for your account. \" You'll see a button that says \"Create payment buttons for your website.\" Click this button. Using the drop-down menu, you can select a variety of messages for your button - \"Buy Now,\" \"Add to Cart,\" \"Donate,\" and others. Enter the required information about your product or service, then click \"Create Button.\"  If you're selling a product, you'll need to know the cost of shipping and any associated tax so this can be added onto your invoices. At the bottom of the page, you'll see additional options for tracking inventory and customizing your PayPal features. You'll then be taken to a page that contains a box of HTML code. Copy and paste this code into your website's HTML to create a button on your page. To do this, you'll need the ability to edit your website's HTML code.  If you don't know what HTML code is (or you're not confident enough to edit it), consult one of our many guides on the subject, several of which are listed here: HTML How-To Articles  If you employ a web developer, send him or her the HTML code in the body of an email - he or she will be able to add the button to your website.\n",
            "  14  A guardian can be a grandparent or other relative, or a friend or appointee of the state, who is interested in caring for the child while the parents are unable or unwilling to do so. It is not the same as a full adoption.  Adoption legally erases any rights of the birth parents and declares the adopting parents to take on those rights. Guardianship just establishes custody, and leaves the birth parents an avenue to reestablish custody. The forms you need as well as interactive instructions for completing and filing the forms, are provided online.  Following the instructions included with your forms, type or print neatly in blue or black ink, filling in each numbered item as necessary. California family court services can provide assistance. Just check with your local county court or online at the California court website. You county facilitator can look at forms to make sure that you have filled everything out correctly.  You can find your family law facilitator by following the link for your county from the California Court’s Family Law Facilitators List. You need to make a copy for yourself as well as both parents and any other relatives or agencies who are concerned with the child. The original will be filed with the court. The court will stamp the papers as \"filed,\" keeping the original and returning the copies to you.  Once the forms are filed, the court has approved the order and it is legally in motion. Serve the copies of the papers to the relatives and agencies who previously were caring for the child.  To insure that everyone is fully aware that you have taken custody, the papers must be legally served by someone unconnected to the case, who is 18 years or older, to every concerned party.  The server must fill out a \"proof of service\" form and return this to you. You will need one for each person you are giving notice to, or \"serving\" the forms to. After the papers have been served, the court needs to be notified that everyone involved in the case is aware of the petition.  If the server gave the papers to the concerned parties in person, he or she will fill out the Proof of Personal Service form. If the server sent the papers by mail, they will fill out a different form, the Proof of Service by Mail form. Both of these are attached to Notice of Hearing--Guardianship or Conservatorship. You will be granted a hearing at which interested parties will have the opportunity to make statements regarding the motion. There may be an investigation or interview before the official hearing.  Arrive on time, answer any questions clearly and politely, and do your best to make a good impression. The judge will then decide whether to grant your petition. If you are granted custody, you need to file the Order Appointing Guardianship of the Child with your county clerk. This confirms that the decision of the judge was what you were seeking and tells the city what has happened.  If you do not file the official order it has not been certified. If your petition is granted and certified, you will need to follow up with yearly reports to the court on the status of the child and your guardianship.\n",
            "  15  If you're interested in learning more about the possible meaning of dreams and dream symbols, consider learning more about the field. Although we still know very little – including why we dream – new and interesting discoveries are being made.  Humans have tried for centuries to interpret and understand dreams. However, the first modern attempts only came in the early 1900s with the theories of Sigmund Freud and Carl Jung, many of whose interpretive ideas are still popular today. Currently scientists have a range of theories. Some argue that dreams don't really mean anything but are the result of random electrical signals in the brain; others think that dreaming evolved as a defense tool; and still others link dreams help us to process the emotions and events of the day. Looking into dreams may give you insight into your own psychology. But we still know very little about dreams and their function. Dream symbols may not always be universal – that is, they might not apply for everyone – and you probably shouldn't rely on them to make major life decisions. The internet has all sorts of website that purport to give the meaning of symbols like doors, water, fences, and other things. Many are even in handy, searchable “dictionaries.” If this sounds too good to be true, it is. Take these sites with a grain of salt.  Websites will often plug very specific meanings into symbols. Dream interpretation is actually a lot more messy than this. Given how little we know about the brain and dreams, you are better off relying on your own judgment or on the advice of a psychoanalyst.  Dream interpretation is highly personal and varies widely. There may be some symbols that carry a shared cultural or even universal meaning, but these are exceptions to the rule. Don't trust that a symbol really means what the “dream dictionary” says.\n"
          ]
        }
      ]
    },
    {
      "cell_type": "code",
      "source": [],
      "metadata": {
        "id": "nyKBb3ov2JEo"
      },
      "execution_count": null,
      "outputs": []
    }
  ]
}