{
  "nbformat": 4,
  "nbformat_minor": 0,
  "metadata": {
    "colab": {
      "provenance": [],
      "gpuType": "T4"
    },
    "kernelspec": {
      "name": "python3",
      "display_name": "Python 3"
    },
    "language_info": {
      "name": "python"
    },
    "accelerator": "GPU",
    "gpuClass": "standard"
  },
  "cells": [
    {
      "cell_type": "code",
      "execution_count": 1,
      "metadata": {
        "colab": {
          "base_uri": "https://localhost:8080/"
        },
        "id": "GArBtb9ujdWC",
        "outputId": "676e1bf9-d8eb-41be-8f5a-65e62107e0c2"
      },
      "outputs": [
        {
          "output_type": "stream",
          "name": "stdout",
          "text": [
            "Looking in indexes: https://pypi.org/simple, https://us-python.pkg.dev/colab-wheels/public/simple/\n",
            "Requirement already satisfied: transformers in /usr/local/lib/python3.10/dist-packages (4.28.1)\n",
            "Requirement already satisfied: regex!=2019.12.17 in /usr/local/lib/python3.10/dist-packages (from transformers) (2022.10.31)\n",
            "Requirement already satisfied: requests in /usr/local/lib/python3.10/dist-packages (from transformers) (2.27.1)\n",
            "Requirement already satisfied: filelock in /usr/local/lib/python3.10/dist-packages (from transformers) (3.12.0)\n",
            "Requirement already satisfied: packaging>=20.0 in /usr/local/lib/python3.10/dist-packages (from transformers) (23.1)\n",
            "Requirement already satisfied: tokenizers!=0.11.3,<0.14,>=0.11.1 in /usr/local/lib/python3.10/dist-packages (from transformers) (0.13.3)\n",
            "Requirement already satisfied: numpy>=1.17 in /usr/local/lib/python3.10/dist-packages (from transformers) (1.22.4)\n",
            "Requirement already satisfied: huggingface-hub<1.0,>=0.11.0 in /usr/local/lib/python3.10/dist-packages (from transformers) (0.14.1)\n",
            "Requirement already satisfied: tqdm>=4.27 in /usr/local/lib/python3.10/dist-packages (from transformers) (4.65.0)\n",
            "Requirement already satisfied: pyyaml>=5.1 in /usr/local/lib/python3.10/dist-packages (from transformers) (6.0)\n",
            "Requirement already satisfied: fsspec in /usr/local/lib/python3.10/dist-packages (from huggingface-hub<1.0,>=0.11.0->transformers) (2023.4.0)\n",
            "Requirement already satisfied: typing-extensions>=3.7.4.3 in /usr/local/lib/python3.10/dist-packages (from huggingface-hub<1.0,>=0.11.0->transformers) (4.5.0)\n",
            "Requirement already satisfied: charset-normalizer~=2.0.0 in /usr/local/lib/python3.10/dist-packages (from requests->transformers) (2.0.12)\n",
            "Requirement already satisfied: certifi>=2017.4.17 in /usr/local/lib/python3.10/dist-packages (from requests->transformers) (2022.12.7)\n",
            "Requirement already satisfied: idna<4,>=2.5 in /usr/local/lib/python3.10/dist-packages (from requests->transformers) (3.4)\n",
            "Requirement already satisfied: urllib3<1.27,>=1.21.1 in /usr/local/lib/python3.10/dist-packages (from requests->transformers) (1.26.15)\n"
          ]
        }
      ],
      "source": [
        "!pip install transformers"
      ]
    },
    {
      "cell_type": "code",
      "source": [
        "import torch\n",
        "from transformers import AutoTokenizer, ReformerForQuestionAnswering"
      ],
      "metadata": {
        "id": "I8xRkC0ajqvm"
      },
      "execution_count": 2,
      "outputs": []
    },
    {
      "cell_type": "code",
      "source": [
        "tokenizer = AutoTokenizer.from_pretrained(\"google/reformer-crime-and-punishment\")\n",
        "model = ReformerForQuestionAnswering.from_pretrained(\"google/reformer-crime-and-punishment\")"
      ],
      "metadata": {
        "colab": {
          "base_uri": "https://localhost:8080/"
        },
        "id": "tenKLjjvoPaZ",
        "outputId": "47a213b3-1e10-480b-e378-5560b7916f7d"
      },
      "execution_count": 34,
      "outputs": [
        {
          "output_type": "stream",
          "name": "stderr",
          "text": [
            "Some weights of the model checkpoint at google/reformer-crime-and-punishment were not used when initializing ReformerForQuestionAnswering: ['lm_head.bias', 'lm_head.decoder.weight', 'lm_head.decoder.bias']\n",
            "- This IS expected if you are initializing ReformerForQuestionAnswering from the checkpoint of a model trained on another task or with another architecture (e.g. initializing a BertForSequenceClassification model from a BertForPreTraining model).\n",
            "- This IS NOT expected if you are initializing ReformerForQuestionAnswering from the checkpoint of a model that you expect to be exactly identical (initializing a BertForSequenceClassification model from a BertForSequenceClassification model).\n",
            "Some weights of ReformerForQuestionAnswering were not initialized from the model checkpoint at google/reformer-crime-and-punishment and are newly initialized: ['reformer.encoder.layers.3.attention.self_attention.self_mask_value_float16', 'reformer.encoder.layers.3.attention.self_attention.mask_value_float16', 'reformer.encoder.layers.1.attention.self_attention.mask_value_float32', 'qa_outputs.weight', 'reformer.encoder.layers.3.attention.self_attention.self_mask_value_float32', 'reformer.encoder.layers.5.attention.self_attention.self_mask_value_float32', 'reformer.encoder.layers.2.attention.self_attention.mask_value_float16', 'reformer.encoder.layers.1.attention.self_attention.mask_value_float16', 'reformer.encoder.layers.1.attention.self_attention.self_mask_value_float32', 'reformer.encoder.layers.3.attention.self_attention.mask_value_float32', 'reformer.encoder.layers.5.attention.self_attention.mask_value_float16', 'qa_outputs.bias', 'reformer.encoder.layers.0.attention.self_attention.mask_value_float32', 'reformer.encoder.layers.2.attention.self_attention.mask_value_float32', 'reformer.encoder.layers.0.attention.self_attention.mask_value_float16', 'reformer.encoder.layers.1.attention.self_attention.self_mask_value_float16', 'reformer.encoder.layers.5.attention.self_attention.mask_value_float32', 'reformer.encoder.layers.5.attention.self_attention.self_mask_value_float16', 'reformer.encoder.layers.4.attention.self_attention.mask_value_float16', 'reformer.encoder.layers.4.attention.self_attention.mask_value_float32']\n",
            "You should probably TRAIN this model on a down-stream task to be able to use it for predictions and inference.\n"
          ]
        }
      ]
    },
    {
      "cell_type": "code",
      "source": [
        "question = \"What is the capital of Germany?\"\n",
        "text = \"Germany is a country based in Europe and the captial name is Berlin.\""
      ],
      "metadata": {
        "id": "UCFIIhV7qkZT"
      },
      "execution_count": 35,
      "outputs": []
    },
    {
      "cell_type": "code",
      "source": [
        "inputs = tokenizer(question, text, return_tensors=\"pt\")\n",
        "with torch.no_grad():\n",
        "    outputs = model(**inputs)"
      ],
      "metadata": {
        "id": "miW-_vD5qpSr"
      },
      "execution_count": 36,
      "outputs": []
    },
    {
      "cell_type": "code",
      "source": [
        "outputs"
      ],
      "metadata": {
        "colab": {
          "base_uri": "https://localhost:8080/"
        },
        "id": "5WTMkHMmtqEe",
        "outputId": "75dd8ad0-7dea-4c18-8548-eff0e361b411"
      },
      "execution_count": 26,
      "outputs": [
        {
          "output_type": "execute_result",
          "data": {
            "text/plain": [
              "QuestionAnsweringModelOutput(loss=None, start_logits=tensor([[-0.3538, -0.1295, -0.4811, -0.1445, -0.3287, -0.0500, -0.2725,  0.0254,\n",
              "          0.0020, -0.2791, -0.8788,  0.0760, -0.1713, -0.2015, -0.5512, -0.2112,\n",
              "         -0.1154, -0.2549,  0.1483, -0.3111, -0.2290, -0.2806, -0.1326, -0.1399,\n",
              "         -0.1924, -0.1691,  0.1851,  0.0780, -0.1407, -0.2611, -0.1789, -0.4415,\n",
              "         -0.6127,  0.4565, -0.0589, -0.4990, -0.1128,  0.0796,  0.5344, -0.1095,\n",
              "          0.1374,  0.2332, -0.1252,  0.0424, -0.0670, -0.1993, -0.4477,  0.3327,\n",
              "         -0.1506, -0.3038,  0.8044, -0.0266, -0.1369,  0.1533, -0.4257, -0.6308]]), end_logits=tensor([[ 0.0217,  0.2129,  0.1305, -0.5226, -0.0407,  0.5836,  0.0063,  0.2467,\n",
              "         -0.0516,  0.5053,  0.0290, -0.1077, -0.0156,  0.3999,  0.9891,  0.7713,\n",
              "         -0.3043,  0.0972,  0.2414,  0.3405,  0.5636,  0.7653,  0.4877,  0.6189,\n",
              "         -0.1989,  0.1969,  0.2315,  0.3782,  0.1472,  0.9732,  0.0204,  0.0952,\n",
              "          1.0173, -0.4966,  0.2581,  0.5317, -0.0137,  0.6619,  0.7173,  0.2183,\n",
              "          0.6740,  0.1177,  0.3691,  0.8983,  0.0347,  0.3106,  0.4395,  0.4362,\n",
              "          0.0974, -0.2470,  0.4531, -0.3385,  0.5196, -0.5564, -0.5881,  0.3481]]), hidden_states=None, attentions=None)"
            ]
          },
          "metadata": {},
          "execution_count": 26
        }
      ]
    },
    {
      "cell_type": "code",
      "source": [
        "answer_start_index = outputs.start_logits.argmax()"
      ],
      "metadata": {
        "id": "Gj5EL8yKs4Rm"
      },
      "execution_count": 37,
      "outputs": []
    },
    {
      "cell_type": "code",
      "source": [
        "answer_start_index"
      ],
      "metadata": {
        "colab": {
          "base_uri": "https://localhost:8080/"
        },
        "id": "4-0BwH26tvFM",
        "outputId": "fbc9e148-dfaa-49d4-9d2b-1138328c191b"
      },
      "execution_count": 38,
      "outputs": [
        {
          "output_type": "execute_result",
          "data": {
            "text/plain": [
              "tensor(0)"
            ]
          },
          "metadata": {},
          "execution_count": 38
        }
      ]
    },
    {
      "cell_type": "code",
      "source": [
        "# answer_start_index = outputs.start_logits.argmax()\n",
        "answer_end_index = outputs.end_logits.argmax()"
      ],
      "metadata": {
        "id": "voFk-Z_cqqsp"
      },
      "execution_count": 39,
      "outputs": []
    },
    {
      "cell_type": "code",
      "source": [
        "answer_end_index"
      ],
      "metadata": {
        "colab": {
          "base_uri": "https://localhost:8080/"
        },
        "id": "iSxTop80t1FT",
        "outputId": "0b3eada0-60f8-4bc9-ccb8-edb624d7e35c"
      },
      "execution_count": 40,
      "outputs": [
        {
          "output_type": "execute_result",
          "data": {
            "text/plain": [
              "tensor(53)"
            ]
          },
          "metadata": {},
          "execution_count": 40
        }
      ]
    },
    {
      "cell_type": "code",
      "source": [
        "predict_answer_tokens = inputs.input_ids[0, answer_start_index : answer_end_index + 1]\n",
        "\n",
        "target_start_index = torch.tensor([12])\n",
        "target_end_index = torch.tensor([12])"
      ],
      "metadata": {
        "id": "3LnKFoYGqsJv"
      },
      "execution_count": 11,
      "outputs": []
    },
    {
      "cell_type": "code",
      "source": [
        "target_start_index"
      ],
      "metadata": {
        "colab": {
          "base_uri": "https://localhost:8080/"
        },
        "id": "afvHp_lpt9V5",
        "outputId": "309393f4-53a0-480c-d428-d1d574c1d761"
      },
      "execution_count": 12,
      "outputs": [
        {
          "output_type": "execute_result",
          "data": {
            "text/plain": [
              "tensor([12])"
            ]
          },
          "metadata": {},
          "execution_count": 12
        }
      ]
    },
    {
      "cell_type": "code",
      "source": [
        "target_end_index"
      ],
      "metadata": {
        "colab": {
          "base_uri": "https://localhost:8080/"
        },
        "id": "JplPTWtXt-dl",
        "outputId": "ea917702-56f5-402c-f3ae-d878bb8aa17b"
      },
      "execution_count": 13,
      "outputs": [
        {
          "output_type": "execute_result",
          "data": {
            "text/plain": [
              "tensor([12])"
            ]
          },
          "metadata": {},
          "execution_count": 13
        }
      ]
    },
    {
      "cell_type": "code",
      "source": [
        "outputs = model(**inputs, start_positions=target_start_index, end_positions=target_end_index)\n",
        "loss = outputs.loss"
      ],
      "metadata": {
        "id": "NWIk9mkjkzu0"
      },
      "execution_count": 14,
      "outputs": []
    },
    {
      "cell_type": "code",
      "source": [
        "loss"
      ],
      "metadata": {
        "colab": {
          "base_uri": "https://localhost:8080/"
        },
        "id": "XdVEnhJVuGaS",
        "outputId": "86f36a22-3934-4ee9-eae5-35b83b6dfa1f"
      },
      "execution_count": 15,
      "outputs": [
        {
          "output_type": "execute_result",
          "data": {
            "text/plain": [
              "tensor(4.2324, grad_fn=<DivBackward0>)"
            ]
          },
          "metadata": {},
          "execution_count": 15
        }
      ]
    },
    {
      "cell_type": "code",
      "source": [
        "def decode_qa_output(question, context, start_logits, end_logits, tokenizer):\n",
        "\n",
        "    start_logits = torch.tensor(start_logits)\n",
        "    end_logits = torch.tensor(end_logits)\n",
        "\n",
        "    # Get the start and end indices with the highest logits\n",
        "    start_index = start_logits.argmax()\n",
        "    end_index = end_logits.argmax()\n",
        "\n",
        "    # Get the tokens corresponding to the answer span\n",
        "    tokens = tokenizer.convert_ids_to_tokens(tokenizer.encode(context))\n",
        "    answer_tokens = tokens[start_index: end_index + 1]\n",
        "\n",
        "    # Decode the answer tokens into text\n",
        "    answer_text = tokenizer.convert_tokens_to_string(answer_tokens)\n",
        "\n",
        "    # Remove special tokens or unwanted characters\n",
        "    answer_text = answer_text.replace('[CLS]', '').replace('[SEP]', '').strip()\n",
        "\n",
        "    return answer_text"
      ],
      "metadata": {
        "id": "vPXgng5Kqiy-"
      },
      "execution_count": 16,
      "outputs": []
    },
    {
      "cell_type": "code",
      "source": [
        "start_logits = outputs[\"start_logits\"]\n",
        "end_logits = outputs[\"end_logits\"]\n",
        "\n",
        "decoded_answer = decode_qa_output(question, text, start_logits, end_logits, tokenizer)"
      ],
      "metadata": {
        "colab": {
          "base_uri": "https://localhost:8080/"
        },
        "id": "DulnY48HpQLv",
        "outputId": "74dd62f1-691c-4210-900b-fdb69addfa36"
      },
      "execution_count": 41,
      "outputs": [
        {
          "output_type": "stream",
          "name": "stderr",
          "text": [
            "<ipython-input-16-946d38247c86>:3: UserWarning: To copy construct from a tensor, it is recommended to use sourceTensor.clone().detach() or sourceTensor.clone().detach().requires_grad_(True), rather than torch.tensor(sourceTensor).\n",
            "  start_logits = torch.tensor(start_logits)\n",
            "<ipython-input-16-946d38247c86>:4: UserWarning: To copy construct from a tensor, it is recommended to use sourceTensor.clone().detach() or sourceTensor.clone().detach().requires_grad_(True), rather than torch.tensor(sourceTensor).\n",
            "  end_logits = torch.tensor(end_logits)\n"
          ]
        }
      ]
    },
    {
      "cell_type": "code",
      "source": [
        "start_logits.argmax()"
      ],
      "metadata": {
        "colab": {
          "base_uri": "https://localhost:8080/"
        },
        "id": "zlTdaenCuaVS",
        "outputId": "08f83887-e6f8-409e-c57d-29932639cebd"
      },
      "execution_count": 42,
      "outputs": [
        {
          "output_type": "execute_result",
          "data": {
            "text/plain": [
              "tensor(0)"
            ]
          },
          "metadata": {},
          "execution_count": 42
        }
      ]
    },
    {
      "cell_type": "code",
      "source": [
        "end_logits.argmax()"
      ],
      "metadata": {
        "colab": {
          "base_uri": "https://localhost:8080/"
        },
        "id": "ArEOZl9HudYR",
        "outputId": "c2881986-6dd4-4e0f-9c54-6f15445b0094"
      },
      "execution_count": 43,
      "outputs": [
        {
          "output_type": "execute_result",
          "data": {
            "text/plain": [
              "tensor(53)"
            ]
          },
          "metadata": {},
          "execution_count": 43
        }
      ]
    },
    {
      "cell_type": "code",
      "source": [
        "print(decoded_answer)"
      ],
      "metadata": {
        "colab": {
          "base_uri": "https://localhost:8080/"
        },
        "id": "dLmDL7tvqIdw",
        "outputId": "6d227bd5-8653-497a-c8ea-45f17c882528"
      },
      "execution_count": 44,
      "outputs": [
        {
          "output_type": "stream",
          "name": "stdout",
          "text": [
            "Germany is a country based in Europe and the captial name is Berlin.\n"
          ]
        }
      ]
    },
    {
      "cell_type": "code",
      "source": [],
      "metadata": {
        "id": "LJjlgZRtuYqm"
      },
      "execution_count": null,
      "outputs": []
    }
  ]
}